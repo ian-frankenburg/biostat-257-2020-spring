{
 "cells": [
  {
   "cell_type": "markdown",
   "metadata": {},
   "source": [
    "# Biostat 257 Homework 1\n",
    "\n",
    "#### Due Apr 17 @ 11:59PM"
   ]
  },
  {
   "cell_type": "markdown",
   "metadata": {},
   "source": [
    "## Q1\n",
    "\n",
    "**No handwritten homework reports are accepted for this course.**  We work with Git/GitHub.  Efficient and abundant use of Git, e.g., **frequent and well-documented** commits, is an important criterion for grading your homework.\n",
    "\n",
    "1. If you don't have a GitHub account, apply for the [Student Developer Pack](https://education.github.com/pack) at GitHub using your UCLA email.\n",
    "\n",
    "2. Create a **private** repository `biostat-257-2020-spring` and add `Hua-Zhou` and `BrendonChau` (TA) as your collaborators.\n",
    "\n",
    "3. Top directories of the repository should be `hw1`, `hw2`, ... You may create other branches for developing your homework solutions; but the `master` branch will be your presentation area. Put your homework submission files (Jupyter notebook `.ipynb`, html converted from notebook, all code and data set to reproduce results) in the `master` branch. \n",
    "\n",
    "4. After each homework due date, teaching assistant and instructor will check out your `master` branch for grading. Tag each of your homework submissions with tag names `hw1`, `hw2`, ...  Tagging time will be used as your submission time. That means if you tag your hw1 submission after deadline, penalty points will be deducted for late submission.  \n",
    "\n",
    "5. Read the [style guide](https://github.com/johnmyleswhite/Style.jl) for Julia programming. Following rules in the style guide will be strictly enforced when grading: (4) four space indenting rule, (6) 80 charcter rule, (7) space after comma rule, (8) no space before comma rule, (9) space around operator rule."
   ]
  },
  {
   "cell_type": "markdown",
   "metadata": {},
   "source": [
    "## Q2\n",
    "\n",
    "Let's check whether floating-point numbers obey certain algebraic rules. For 2-5, one counter-example suffices.\n",
    "\n",
    "1. Associative rule for addition says `(x + y) + z == x + (y + z)`. Check association rule using `x = 0.1`, `y = 0.1` and `z = 1.0` in Julia. Explain what you find.\n",
    "\n",
    "2. Do floating-point numbers obey the associative rule for multiplication: `(x * y) * z == x * (y * z)`?\n",
    "\n",
    "3. Do floating-point numbers obey the distributive rule: `a * (x + y) == a * x + a * y`?  \n",
    "\n",
    "4. Is `0 * x == 0` true for all floating-point number `x`? \n",
    "\n",
    "5. Is `x / a == x * (1 / a)` always true?"
   ]
  },
  {
   "cell_type": "markdown",
   "metadata": {},
   "source": [
    "## Q2 Solution"
   ]
  },
  {
   "cell_type": "code",
   "execution_count": 44,
   "metadata": {},
   "outputs": [
    {
     "name": "stdout",
     "output_type": "stream",
     "text": [
      "(x + y) + z == x + (y + z) = false\n",
      "(x + y) + z = 1.2\n",
      "x + (y + z) = 1.2000000000000002\n"
     ]
    },
    {
     "data": {
      "text/plain": [
       "1.2000000000000002"
      ]
     },
     "execution_count": 44,
     "metadata": {},
     "output_type": "execute_result"
    }
   ],
   "source": [
    "# 1. Associative rule for addition says (x + y) + z == x + (y + z). \n",
    "# Check association rule using x = 0.1, y = 0.1 and z = 1.0 in Julia. Explain what you find.\n",
    "x = 0.1; y = 0.1; z = 1.0\n",
    "@show (x + y) + z == x + (y + z)\n",
    "@show (x + y) + z\n",
    "@show x + (y + z)"
   ]
  },
  {
   "cell_type": "code",
   "execution_count": null,
   "metadata": {},
   "outputs": [],
   "source": [
    "Expressing decimal numbers as floating points can introduce rounding errors."
   ]
  },
  {
   "cell_type": "markdown",
   "metadata": {},
   "source": [
    "Expressing decimal numbers asloating points can introduce rounding errors."
   ]
  },
  {
   "cell_type": "code",
   "execution_count": 106,
   "metadata": {},
   "outputs": [
    {
     "name": "stdout",
     "output_type": "stream",
     "text": [
      "(x * y) * z == x * (y * z) = false\n"
     ]
    },
    {
     "data": {
      "text/plain": [
       "false"
      ]
     },
     "execution_count": 106,
     "metadata": {},
     "output_type": "execute_result"
    }
   ],
   "source": [
    "# 2. Do floating-point numbers obey the associative rule for multiplication: (x * y) * z == x * (y * z)?\n",
    "x = 0.6\n",
    "y = 0.66\n",
    "z = 3.1415926535\n",
    "@show (x * y) * z == x * (y * z)"
   ]
  },
  {
   "cell_type": "code",
   "execution_count": 113,
   "metadata": {},
   "outputs": [
    {
     "name": "stdout",
     "output_type": "stream",
     "text": [
      "a * (x + y) == a * x + a * y = false\n"
     ]
    },
    {
     "data": {
      "text/plain": [
       "false"
      ]
     },
     "execution_count": 113,
     "metadata": {},
     "output_type": "execute_result"
    }
   ],
   "source": [
    "# 3. Do floating-point numbers obey the distributive rule: a * (x + y) == a * x + a * y?\n",
    "a = 0.6\n",
    "x = 0.66\n",
    "y = 3.1415926535\n",
    "@show a * (x + y) == a * x + a * y"
   ]
  },
  {
   "cell_type": "code",
   "execution_count": 128,
   "metadata": {},
   "outputs": [
    {
     "name": "stdout",
     "output_type": "stream",
     "text": [
      "Inf64 * 0 == 0 = false\n",
      "1492 * 0 == 0 = true\n"
     ]
    },
    {
     "data": {
      "text/plain": [
       "true"
      ]
     },
     "execution_count": 128,
     "metadata": {},
     "output_type": "execute_result"
    }
   ],
   "source": [
    "# 4. Is 0 * x == 0 true for all floating-point number x?\n",
    "@show Inf64 * 0 == 0\n",
    "@show 1492 * 0 == 0"
   ]
  },
  {
   "cell_type": "code",
   "execution_count": 135,
   "metadata": {},
   "outputs": [
    {
     "name": "stdout",
     "output_type": "stream",
     "text": [
      "x / a = 5.999999999999999\n",
      "x * (1 / a) = 6.0\n",
      "x / a = 5.999999999999999\n",
      "x * (1 / a) = 6.0\n"
     ]
    },
    {
     "data": {
      "text/plain": [
       "6.0"
      ]
     },
     "execution_count": 135,
     "metadata": {},
     "output_type": "execute_result"
    }
   ],
   "source": [
    "###### 5. Is x / a == x * (1 / a) always true?\n",
    "x = 0.6\n",
    "a = .1\n",
    "@show x / a\n",
    "@show x * (1 / a)\n",
    "@show x / a\n",
    "@show x * (1 / a)"
   ]
  },
  {
   "cell_type": "markdown",
   "metadata": {},
   "source": [
    "## Q3\n",
    "\n",
    "Consider Julia function\n",
    "```julia\n",
    "function g(k)\n",
    "    for i in 1:10\n",
    "        k = 5k - 1\n",
    "    end\n",
    "    k\n",
    "end\n",
    "```\n",
    "1. Use `@code_llvm` to find the LLVM bitcode of compiled `g` with `Int64` input.   \n",
    "2. Use `@code_llvm` to find the LLVM bitcode of compiled `g` with `Float64` input.  \n",
    "3. Compare the bitcode from questions 1 and 2. What do you find?  \n",
    "4. Read Julia documentation on `@fastmath` and repeat the questions 1-3 on the function  \n",
    "\n",
    "```julia\n",
    "function g_fastmath(k)  \n",
    "    @fastmath for i in 1:10  \n",
    "        k = 5k - 1\n",
    "    end\n",
    "    k\n",
    "end\n",
    "```\n",
    "    Explain what does macro `@fastmath` do?"
   ]
  },
  {
   "cell_type": "markdown",
   "metadata": {},
   "source": [
    "## Q3 Solution"
   ]
  },
  {
   "cell_type": "code",
   "execution_count": 144,
   "metadata": {},
   "outputs": [
    {
     "name": "stdout",
     "output_type": "stream",
     "text": [
      "\n",
      ";  @ In[144]:3 within `g'\n",
      "define i64 @julia_g_19996(i64) {\n",
      "top:\n",
      ";  @ In[144]:4 within `g'\n",
      "; ┌ @ int.jl:54 within `*'\n",
      "   %1 = mul i64 %0, 9765625\n",
      "; └\n",
      "; ┌ @ int.jl:52 within `-'\n",
      "   %2 = add i64 %1, -2441406\n",
      "; └\n",
      ";  @ In[144]:6 within `g'\n",
      "  ret i64 %2\n",
      "}\n"
     ]
    }
   ],
   "source": [
    "#1. \n",
    "function g(k)\n",
    "    for i in 1:10\n",
    "        k = 5k - 1\n",
    "    end\n",
    "    k\n",
    "end\n",
    "@code_llvm g(4)"
   ]
  },
  {
   "cell_type": "code",
   "execution_count": 139,
   "metadata": {},
   "outputs": [
    {
     "name": "stdout",
     "output_type": "stream",
     "text": [
      "\n",
      ";  @ In[138]:2 within `g'\n",
      "define double @julia_g_19944(double) {\n",
      "top:\n",
      ";  @ In[138]:3 within `g'\n",
      "; ┌ @ promotion.jl:312 within `*' @ float.jl:405\n",
      "   %1 = fmul double %0, 5.000000e+00\n",
      "; └\n",
      "; ┌ @ promotion.jl:313 within `-' @ float.jl:403\n",
      "   %2 = fadd double %1, -1.000000e+00\n",
      "; └\n",
      "; ┌ @ promotion.jl:312 within `*' @ float.jl:405\n",
      "   %3 = fmul double %2, 5.000000e+00\n",
      "; └\n",
      "; ┌ @ promotion.jl:313 within `-' @ float.jl:403\n",
      "   %4 = fadd double %3, -1.000000e+00\n",
      "; └\n",
      "; ┌ @ promotion.jl:312 within `*' @ float.jl:405\n",
      "   %5 = fmul double %4, 5.000000e+00\n",
      "; └\n",
      "; ┌ @ promotion.jl:313 within `-' @ float.jl:403\n",
      "   %6 = fadd double %5, -1.000000e+00\n",
      "; └\n",
      "; ┌ @ promotion.jl:312 within `*' @ float.jl:405\n",
      "   %7 = fmul double %6, 5.000000e+00\n",
      "; └\n",
      "; ┌ @ promotion.jl:313 within `-' @ float.jl:403\n",
      "   %8 = fadd double %7, -1.000000e+00\n",
      "; └\n",
      "; ┌ @ promotion.jl:312 within `*' @ float.jl:405\n",
      "   %9 = fmul double %8, 5.000000e+00\n",
      "; └\n",
      "; ┌ @ promotion.jl:313 within `-' @ float.jl:403\n",
      "   %10 = fadd double %9, -1.000000e+00\n",
      "; └\n",
      "; ┌ @ promotion.jl:312 within `*' @ float.jl:405\n",
      "   %11 = fmul double %10, 5.000000e+00\n",
      "; └\n",
      "; ┌ @ promotion.jl:313 within `-' @ float.jl:403\n",
      "   %12 = fadd double %11, -1.000000e+00\n",
      "; └\n",
      "; ┌ @ promotion.jl:312 within `*' @ float.jl:405\n",
      "   %13 = fmul double %12, 5.000000e+00\n",
      "; └\n",
      "; ┌ @ promotion.jl:313 within `-' @ float.jl:403\n",
      "   %14 = fadd double %13, -1.000000e+00\n",
      "; └\n",
      "; ┌ @ promotion.jl:312 within `*' @ float.jl:405\n",
      "   %15 = fmul double %14, 5.000000e+00\n",
      "; └\n",
      "; ┌ @ promotion.jl:313 within `-' @ float.jl:403\n",
      "   %16 = fadd double %15, -1.000000e+00\n",
      "; └\n",
      "; ┌ @ promotion.jl:312 within `*' @ float.jl:405\n",
      "   %17 = fmul double %16, 5.000000e+00\n",
      "; └\n",
      "; ┌ @ promotion.jl:313 within `-' @ float.jl:403\n",
      "   %18 = fadd double %17, -1.000000e+00\n",
      "; └\n",
      "; ┌ @ promotion.jl:312 within `*' @ float.jl:405\n",
      "   %19 = fmul double %18, 5.000000e+00\n",
      "; └\n",
      "; ┌ @ promotion.jl:313 within `-' @ float.jl:403\n",
      "   %20 = fadd double %19, -1.000000e+00\n",
      "; └\n",
      ";  @ In[138]:5 within `g'\n",
      "  ret double %20\n",
      "}\n"
     ]
    }
   ],
   "source": [
    "#2. Use @code_llvm to find the LLVM bitcode of compiled g with Float64 input\n",
    "@code_llvm g(4.5)"
   ]
  },
  {
   "cell_type": "markdown",
   "metadata": {},
   "source": [
    "There's more bitcode generated with Float64 input compared to the Int64 input. IEEE standard representation of floating point numbers means there will be more compution with floats to handle the extended precision."
   ]
  },
  {
   "cell_type": "code",
   "execution_count": 145,
   "metadata": {},
   "outputs": [
    {
     "name": "stdout",
     "output_type": "stream",
     "text": [
      "\n",
      ";  @ In[145]:3 within `g_fastmath'\n",
      "define i64 @julia_g_fastmath_19997(i64) {\n",
      "top:\n",
      ";  @ In[145]:4 within `g_fastmath'\n",
      "; ┌ @ fastmath.jl:266 within `mul_fast'\n",
      "; │┌ @ int.jl:54 within `*'\n",
      "    %1 = mul i64 %0, 9765625\n",
      "; └└\n",
      "; ┌ @ fastmath.jl:266 within `sub_fast'\n",
      "; │┌ @ int.jl:52 within `-'\n",
      "    %2 = add i64 %1, -2441406\n",
      "; └└\n",
      ";  @ In[145]:6 within `g_fastmath'\n",
      "  ret i64 %2\n",
      "}\n"
     ]
    }
   ],
   "source": [
    "#4. Read Julia documentation on `@fastmath` and repeat the questions 1-3 on the function  \n",
    "function g_fastmath(k)  \n",
    "    @fastmath for i in 1:10  \n",
    "        k = 5k - 1\n",
    "    end\n",
    "    k\n",
    "end\n",
    "\n",
    "@code_llvm g_fastmath(4)"
   ]
  },
  {
   "cell_type": "code",
   "execution_count": 143,
   "metadata": {},
   "outputs": [
    {
     "name": "stdout",
     "output_type": "stream",
     "text": [
      "\n",
      ";  @ In[142]:3 within `g_fastmath'\n",
      "define double @julia_g_fastmath_19995(double) {\n",
      "top:\n",
      ";  @ In[142]:4 within `g_fastmath'\n",
      "; ┌ @ fastmath.jl:263 within `mul_fast' @ fastmath.jl:163\n",
      "   %1 = fmul fast double %0, 0x4162A05F20000000\n",
      "; └\n",
      "; ┌ @ fastmath.jl:263 within `sub_fast' @ fastmath.jl:162\n",
      "   %2 = fadd fast double %1, 0xC142A05F00000000\n",
      "; └\n",
      ";  @ In[142]:6 within `g_fastmath'\n",
      "  ret double %2\n",
      "}\n"
     ]
    }
   ],
   "source": [
    "@code_llvm g_fastmath(4.5)"
   ]
  },
  {
   "cell_type": "markdown",
   "metadata": {},
   "source": [
    "Now there's the same number of lines of bitcode generated for both types.\n"
   ]
  },
  {
   "cell_type": "markdown",
   "metadata": {},
   "source": [
    "## Q4\n",
    "\n",
    "Create the vector `x = (0.988, 0.989, 0.990, ..., 1.010, 1.011, 1.012)`.  \n",
    "0. Plot the polynomial `y = x^7 - 7x^6 + 21x^5 - 35x^4 + 35x^3 - 21x^2 + 7x -1` at points `x`.  \n",
    "\n",
    "1. Plot the polynomial `y = (x - 1)^7` at points `x`.  \n",
    "\n",
    "2. Explain what you found."
   ]
  },
  {
   "cell_type": "markdown",
   "metadata": {},
   "source": [
    "## Q4 Solution"
   ]
  },
  {
   "cell_type": "code",
   "execution_count": 30,
   "metadata": {},
   "outputs": [
    {
     "data": {
      "image/png": "[encoded data removed]"
     },
     "execution_count": 30,
     "metadata": {},
     "output_type": "execute_result"
    }
   ],
   "source": [
    "using Plots\n",
    "pyplot()\n",
    "x = Vector(0.988:0.001:1.012)\n",
    "y = zeros(length(x))\n",
    "for i in 1:length(x)\n",
    "    y[i] = x[i]^7 - 7x[i]^6 + 21x[i]^5 - 35x[i]^4 + 35x[i]^3 - 21x[i]^2 + 7x[i] - 1\n",
    "end\n",
    "plot(x,y)"
   ]
  },
  {
   "cell_type": "code",
   "execution_count": 31,
   "metadata": {},
   "outputs": [
    {
     "data": {
      "image/png": "[encoded data removed]"
     },
     "execution_count": 31,
     "metadata": {},
     "output_type": "execute_result"
    }
   ],
   "source": [
    "for i in 1:length(x)\n",
    "    y[i] = (x[i] - 1)^7\n",
    "end\n",
    "plot(x,y)"
   ]
  },
  {
   "cell_type": "markdown",
   "metadata": {},
   "source": [
    "By expanding the $7^{th}$ degree polynomial, we're introducing additional arithmetic operations. This gives more rounding errors."
   ]
  },
  {
   "cell_type": "markdown",
   "metadata": {},
   "source": [
    "## Q5\n",
    "\n",
    "1. Show the **Sherman-Morrison formula**\n",
    "$$\n",
    "\t(\\mathbf{A} + \\mathbf{u} \\mathbf{u}^T)^{-1} = \\mathbf{A}^{-1} - \\frac{1}{1 + \\mathbf{u}^T \\mathbf{A}^{-1} \\mathbf{u}} \\mathbf{A}^{-1} \\mathbf{u} \\mathbf{u}^T \\mathbf{A}^{-1},\n",
    "$$\n",
    "where $\\mathbf{A} \\in \\mathbb{R}^{n \\times n}$ is nonsingular and $\\mathbf{u} \\in \\mathbb{R}^n$. This formula supplies the inverse of the symmetric, rank-one  perturbation of $\\mathbf{A}$.\n",
    "\n",
    "2. Show the **Woodbury formula**\n",
    "$$\n",
    "\t(\\mathbf{A} + \\mathbf{U} \\mathbf{V}^T)^{-1} = \\mathbf{A}^{-1} - \\mathbf{A}^{-1} \\mathbf{U} (\\mathbf{I}_m + \\mathbf{V}^T \\mathbf{A}^{-1} \\mathbf{U})^{-1} \\mathbf{V}^T \\mathbf{A}^{-1},\n",
    "$$\n",
    "where $\\mathbf{A} \\in \\mathbb{R}^{n \\times n}$ is nonsingular, $\\mathbf{U}, \\mathbf{V} \\in \\mathbb{R}^{n \\times m}$, and $\\mathbf{I}_m$ is the $m \\times m$ identity matrix. In many applications $m$ is much smaller than $n$. Woodbury formula generalizes Sherman-Morrison and is valuable because the smaller matrix $\\mathbf{I}_m + \\mathbf{V}^T \\mathbf{A}^{-1} \\mathbf{U}$ is cheaper to invert than the larger matrix $\\mathbf{A} + \\mathbf{U} \\mathbf{V}^T$.\n",
    "\n",
    "3. Show the **binomial inversion formula**\n",
    "$$\n",
    "\t(\\mathbf{A} + \\mathbf{U} \\mathbf{B} \\mathbf{V}^T)^{-1} = \\mathbf{A}^{-1} - \\mathbf{A}^{-1} \\mathbf{U} (\\mathbf{B}^{-1} + \\mathbf{V}^T \\mathbf{A}^{-1} \\mathbf{U})^{-1} \\mathbf{V}^T \\mathbf{A}^{-1},\n",
    "$$\n",
    "where $\\mathbf{A}$ and $\\mathbf{B}$ are nonsingular.\n",
    "\n",
    "4. Show the identity\n",
    "$$\n",
    "\t\\text{det}(\\mathbf{A} + \\mathbf{U} \\mathbf{V}^T) = \\text{det}(\\mathbf{A}) \\text{det}(\\mathbf{I}_m + \\mathbf{V}^T \\mathbf{A}^{-1} \\mathbf{U}).\n",
    "$$\n",
    "This formula is useful for evaluating the density of a multivariate normal with covariance matrix $\\mathbf{A} + \\mathbf{U} \\mathbf{V}^T$.\n",
    "\n",
    "**Hint**: 1 and 2 are special cases of 3."
   ]
  },
  {
   "cell_type": "markdown",
   "metadata": {},
   "source": [
    "## Q5 Solution\n",
    "\n",
    "1. This is a special case of part 3, which I've shown below -- just let $\\mathbf{U}=\\mathbf{u}$, $\\mathbf{V}^\\top=\\mathbf{u}^\\top$, and $\\mathbf{B}=\\mathbf{I}$.\n",
    "\n",
    "2. This is another special case of part 3: take $\\mathbf{B}=\\mathbf{I}$.\n",
    "\n",
    "3. I'll first left-multiply by $(\\mathbf{A} + \\mathbf{U} \\mathbf{B} \\mathbf{V}^\\top)$ to get\n",
    "\n",
    "> $$\n",
    "\\begin{align*}\n",
    "(\\mathbf{A} + \\mathbf{U} \\mathbf{B} \\mathbf{V}^\\top)(\\mathbf{A} + \\mathbf{U} \\mathbf{B} \\mathbf{V}^\\top)^{-1}=\\mathbf{I}&= (\\mathbf{A} + \\mathbf{U} \\mathbf{B} \\mathbf{V}^T)(\\mathbf{A}^{-1} - \\mathbf{A}^{-1} \\mathbf{U} (\\mathbf{B}^{-1} + \\mathbf{V}^\\top \\mathbf{A}^{-1} \\mathbf{U})^{-1} \\mathbf{V}^\\top \\mathbf{A}^{-1})\\\\\n",
    "&=\\ I-\\mathbf{U}(\\underline{\\mathbf{B}^{-1}+\\mathbf{V}^\\top\\mathbf{A}^{-1}\\mathbf{U})^{-1}\\mathbf{V}^\\top \\mathbf{A}^{-1}}\\\\\n",
    "&\\qquad\\qquad + \\mathbf{UB}\\mathbf{V}^\\top\\mathbf{A}^{-1}-\\mathbf{U}\\mathbf{B}\\mathbf{V}^\\top\\mathbf{A}^{-1}\\mathbf{U}(\\underline{\\mathbf{B}^{-1}+\\mathbf{V}^{\\top}\\mathbf{A}^{-1}\\mathbf{U})^{-1}\\mathbf{V}^\\top\\mathbf{A}^{-1}}\n",
    "\\end{align*}\n",
    "$$\n",
    "> Factoring out the underlined term on the right gives\n",
    "> $$\n",
    "\\begin{align*}\n",
    "\\mathbf{I}&=\\mathbf{I}-(\\mathbf{U}-\\mathbf{UB}\\mathbf{V}^\\top\\mathbf{A}^{-1}\\mathbf{U})(\\mathbf{B}^{-1}+\\mathbf{V}^\\top\\mathbf{A}^{-1}\\mathbf{U})^{-1}\\mathbf{V}^\\top\\mathbf{A}+\\mathbf{U}\\mathbf{B}\\mathbf{V}^\\top\\mathbf{A}^{-1}\n",
    "\\end{align*}\n",
    "$$\n",
    "> Cleverly factoring out a $\\mathbf{B}$,\n",
    "$$\n",
    "\\begin{align*}\n",
    "&=\\mathbf{I}-\\mathbf{UB}(\\mathbf{B}^{-1}-\\mathbf{V}^\\top\\mathbf{A}^{-1}\\mathbf{U})(\\mathbf{B}^{-1}+\\mathbf{V}^\\top\\mathbf{A}^{-1}\\mathbf{U})^{-1}\\mathbf{V}^\\top\\mathbf{A}+\\mathbf{U}\\mathbf{B}\\mathbf{V}^\\top\\mathbf{A}^{-1}\\\\\n",
    "&=\\mathbf{I}-\\mathbf{UB}\\mathbf{V}^\\top \\mathbf{A}+\\mathbf{UB}\\mathbf{V}^\\top\\mathbf{A}\\\\\n",
    "&=\\mathbf{I}\n",
    "\\end{align*}  \n",
    "$$\n",
    "> Then if I transpose this argument, I can see that this also holds for the right-multiplication. This shows the identity is true.\n",
    "\n",
    "4. \n",
    "> From the the Binomial Inversion Formula<sup>TM</sup>, \n",
    "$$\n",
    "\\begin{align*}\n",
    "(\\mathbf{A} + \\mathbf{UV}^\\top)^{-1} &= \\mathbf{A}^{-1} - \\mathbf{A}^{-1}\\mathbf{U}(\\mathbf{I} + \\mathbf{V}^\\top \\mathbf{A}^{-1}\\mathbf{U})^{-1}\\mathbf{V}^\\top \\mathbf{A}^{-1}\\\\\n",
    "&= \\mathbf{A}^{-1}(\\mathbf{I} - \\mathbf{U}(\\mathbf{I} + \\mathbf{V}^\\top\\mathbf{A}^{-1}\\mathbf{U})^{-1}\\mathbf{V}^\\top\\mathbf{A}^{-1})\n",
    "\\end{align*}  \n",
    "$$\n",
    "Let $\\mathbf{C} = \\mathbf{U}$ and $\\mathbf{D} = \\mathbf{V}^\\top\\mathbf{A}^{-1}$ and using $(\\mathbf{I} + \\mathbf{CD})^{-1} = \\mathbf{I} - \\mathbf{C}(\\mathbf{I} + \\mathbf{DC})^{-1}\\mathbf{D}$ gives  \n",
    "$$\n",
    "\\begin{align*}\n",
    "(\\mathbf{A} + \\mathbf{UV}^\\top)^{-1} &= \\mathbf{A}^{-1}(\\mathbf{I} - \\mathbf{U}(\\mathbf{I} + \\mathbf{V}^\\top\\mathbf{A}^{-1}\\mathbf{U})^{-1}\\mathbf{V}^\\top\\mathbf{A}^{-1})\\\\\n",
    "&= \\mathbf{A}^{-1}(\\mathbf{I} + \\mathbf{UV}^\\top\\mathbf{A}^{-1})^{-1}\\\\\n",
    "&= ((\\mathbf{I} + \\mathbf{UV}^\\top\\mathbf{A}^{-1})\\mathbf{A})^{-1}\n",
    "\\end{align*}  \n",
    "$$\n",
    "Thus, $\\det(\\mathbf{A} + \\mathbf{UV}^\\top)^{-1}$ = $\\det((\\mathbf{I} + \\mathbf{UV}^\\top \\mathbf{A}^{-1})\\mathbf{A})^{-1}$ which means that $\\det(\\mathbf{A} + \\mathbf{UV}^\\top) = \\det((\\mathbf{I} + \\mathbf{UV}^\\top\\mathbf{A}^{-1})\\mathbf{A}).$  \n",
    "Now using $\\det(\\mathbf{I} + \\mathbf{CD}) = \\det(\\mathbf{I} + \\mathbf{DC})$ gives\n",
    "$$\\det(\\mathbf{A} + \\mathbf{UV}^\\top) = \\det((\\mathbf{I} + \\mathbf{V}^\\top \\mathbf{A}^{-1}\\mathbf{U})\\mathbf{A}) = \\det(\\mathbf{A})\\det(\\mathbf{I} + \\mathbf{V}^\\top\\mathbf{A}^{-1}\\mathbf{U}).$$"
   ]
  },
  {
   "cell_type": "markdown",
   "metadata": {},
   "source": [
    "## Q6\n",
    "\n",
    "Demonstrate the following facts about triangular matrices in Julia (one example for each fact). Mathematically curious ones are also encouraged to prove them. \n",
    "\n",
    "Note a unit triangular matrix is a triangular matrix with all diagonal entries being 1.\n",
    "\n",
    "1. The product of two upper (lower) triangular matrices is upper (lower) triangular.\n",
    "\n",
    "2. The inverse of an upper (lower) triangular matrix is upper (lower) triangular.\n",
    "\n",
    "3. The product of two unit upper (lower) triangular matrices is unit upper (lower) triangular.\n",
    "\n",
    "4. The inverse of a unit upper (lower) triangular matrix is unit upper (lower) triangular.\n",
    "\n",
    "5. An orthogonal upper (lower) triangular matrix is diagonal."
   ]
  },
  {
   "cell_type": "code",
   "execution_count": 37,
   "metadata": {},
   "outputs": [
    {
     "name": "stdout",
     "output_type": "stream",
     "text": [
      "Lower * Lower: [25 0 0; 72 49 0; 86 54 1]\n",
      "\n",
      "Upper * Upper: [25 72 86; 0 49 54; 0 0 1]\n"
     ]
    }
   ],
   "source": [
    "# 1. The product of two upper (lower) triangular matrices is upper (lower) triangular.\n",
    "matrix = [5 0 0; 6 7 0;8 9 -1]\n",
    "println(\"Lower * Lower: \", matrix * matrix,\"\\n\")\n",
    "print(\"Upper * Upper: \", matrix' * matrix')"
   ]
  },
  {
   "cell_type": "code",
   "execution_count": 38,
   "metadata": {},
   "outputs": [
    {
     "name": "stdout",
     "output_type": "stream",
     "text": [
      "Lower Triangular Inverse: [0.2 0.0 0.0; -0.17142857142857146 0.14285714285714285 0.0; 0.05714285714285697 1.2857142857142856 -1.0]\n",
      "\n",
      "Upper Triangular Inverse: [0.2 -0.17142857142857146 0.05714285714285697; 0.0 0.14285714285714285 1.2857142857142856; 0.0 0.0 -1.0]"
     ]
    }
   ],
   "source": [
    "# 2. The inverse of an upper (lower) triangular matrix is upper (lower) triangular.\n",
    "println(\"Lower Triangular Inverse: \", inv(matrix),\"\\n\")\n",
    "print(\"Upper Triangular Inverse: \", inv(matrix'))"
   ]
  },
  {
   "cell_type": "code",
   "execution_count": 1,
   "metadata": {},
   "outputs": [
    {
     "name": "stdout",
     "output_type": "stream",
     "text": [
      "Unit Lower * Unit Lower: [1 0 0; 2 1 0; 3 2 1]\n",
      "\n",
      "Unit Upper * Unit Upper: [1 2 3; 0 1 2; 0 0 1]"
     ]
    }
   ],
   "source": [
    "# 3. The product of two unit upper (lower) triangular matrices is unit upper (lower) triangular.\n",
    "matrix = [1 0 0; 1 1 0;1 1 1]\n",
    "println(\"Unit Lower * Unit Lower: \", matrix * matrix,\"\\n\")\n",
    "print(\"Unit Upper * Unit Upper: \", matrix' * matrix')"
   ]
  },
  {
   "cell_type": "code",
   "execution_count": 2,
   "metadata": {},
   "outputs": [
    {
     "name": "stdout",
     "output_type": "stream",
     "text": [
      "Unit Lower Triangular Inverse: [1.0 0.0 0.0; -1.0 1.0 0.0; 0.0 -1.0 1.0]\n",
      "\n",
      "Unit Upper Triangular Inverse: [1.0 -1.0 0.0; 0.0 1.0 -1.0; 0.0 0.0 1.0]"
     ]
    }
   ],
   "source": [
    "# 4. The inverse of a unit upper (lower) triangular matrix is unit upper (lower) triangular.\n",
    "matrix = [1 0 0; 1 1 0;1 1 1]\n",
    "println(\"Unit Lower Triangular Inverse: \", inv(matrix),\"\\n\")\n",
    "print(\"Unit Upper Triangular Inverse: \", inv(matrix'))"
   ]
  },
  {
   "cell_type": "markdown",
   "metadata": {},
   "source": [
    "An orthogonal upper triangular matrix is diagonal must be true. Suppose there's a non-diagonal orthogonal upper triangular matrix $\\mathbf A$, such that $\\mathbf A^\\top\\mathbf A=\\mathbf I\\implies \\mathbf{A}^\\top=\\mathbf{A}^{-1}$. I just demonstrated that the inverse of a lower triangular matrix is also lower triangular, and it's true that $\\mathbf A^\\top$ must be lower triangular. The only way for $\\mathbf{A}$ to satisfy this is to be diagonal."
   ]
  },
  {
   "cell_type": "code",
   "execution_count": null,
   "metadata": {},
   "outputs": [],
   "source": []
  }
 ],
 "metadata": {
  "kernelspec": {
   "display_name": "Julia 1.4.0",
   "language": "julia",
   "name": "julia-1.4"
  },
  "language_info": {
   "file_extension": ".jl",
   "mimetype": "application/julia",
   "name": "julia",
   "version": "1.4.0"
  },
  "toc": {
   "colors": {
    "hover_highlight": "#DAA520",
    "running_highlight": "#FF0000",
    "selected_highlight": "#FFD700"
   },
   "moveMenuLeft": true,
   "nav_menu": {
    "height": "153px",
    "width": "252px"
   },
   "navigate_menu": true,
   "number_sections": false,
   "sideBar": true,
   "skip_h1_title": true,
   "threshold": 4,
   "toc_cell": false,
   "toc_section_display": "block",
   "toc_window_display": true,
   "widenNotebook": false
  }
 },
 "nbformat": 4,
 "nbformat_minor": 4
}
