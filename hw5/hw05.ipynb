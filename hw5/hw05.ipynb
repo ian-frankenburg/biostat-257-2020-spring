{
 "cells": [
  {
   "cell_type": "markdown",
   "metadata": {},
   "source": [
    "# Biostat 257 Homework 5\n",
    "\n",
    "## Ian Frankenburg\n",
    "\n",
    "**Due June 5 @ 11:59PM**"
   ]
  },
  {
   "cell_type": "code",
   "execution_count": null,
   "metadata": {},
   "outputs": [],
   "source": [
    "versioninfo()"
   ]
  },
  {
   "cell_type": "markdown",
   "metadata": {},
   "source": [
    "Again we continue with the linear mixed effects model (LMM)\n",
    "$$\n",
    "    \\mathbf{Y}_i = \\mathbf{X}_i \\boldsymbol{\\beta} + \\mathbf{Z}_i \\boldsymbol{\\gamma} + \\boldsymbol{\\epsilon}_i, \\quad i=1,\\ldots,n,\n",
    "$$\n",
    "where   \n",
    "- $\\mathbf{Y}_i \\in \\mathbb{R}^{n_i}$ is the response vector of $i$-th individual,  \n",
    "- $\\mathbf{X}_i \\in \\mathbb{R}^{n_i \\times p}$ is the fixed effects predictor matrix of $i$-th individual,  \n",
    "- $\\mathbf{Z}_i \\in \\mathbb{R}^{n_i \\times q}$ is the random effects predictor matrix of $i$-th individual,  \n",
    "- $\\boldsymbol{\\epsilon}_i \\in \\mathbb{R}^{n_i}$ are multivariate normal $N(\\mathbf{0}_{n_i},\\sigma^2 \\mathbf{I}_{n_i})$,  \n",
    "- $\\boldsymbol{\\beta} \\in \\mathbb{R}^p$ are fixed effects, and  \n",
    "- $\\boldsymbol{\\gamma} \\in \\mathbb{R}^q$ are random effects assumed to be $N(\\mathbf{0}_q, \\boldsymbol{\\Sigma}_{q \\times q}$) independent of $\\boldsymbol{\\epsilon}_i$.\n",
    "\n",
    "The log-likelihood of the $i$-th datum $(\\mathbf{y}_i, \\mathbf{X}_i, \\mathbf{Z}_i)$ is \n",
    "$$\n",
    "    \\ell_i(\\boldsymbol{\\beta}, \\mathbf{L}, \\sigma_0^2) = - \\frac{n_i}{2} \\log (2\\pi) - \\frac{1}{2} \\log \\det \\boldsymbol{\\Omega}_i - \\frac{1}{2} (\\mathbf{y} - \\mathbf{X}_i \\boldsymbol{\\beta})^T \\boldsymbol{\\Omega}_i^{-1} (\\mathbf{y} - \\mathbf{X}_i \\boldsymbol{\\beta}),\n",
    "$$\n",
    "where\n",
    "$$\n",
    "    \\boldsymbol{\\Omega}_i = \\sigma^2 \\mathbf{I}_{n_i} + \\mathbf{Z}_i \\boldsymbol{\\Sigma} \\mathbf{Z}_i^T.\n",
    "$$\n",
    "Given $m$ independent data points $(\\mathbf{y}_i, \\mathbf{X}_i, \\mathbf{Z}_i)$, $i=1,\\ldots,m$, we seek the maximum likelihood estimate (MLE) by maximizing the log-likelihood\n",
    "$$\n",
    "\\ell(\\boldsymbol{\\beta}, \\boldsymbol{\\Sigma}, \\sigma_0^2) = \\sum_{i=1}^m \\ell_i(\\boldsymbol{\\beta}, \\boldsymbol{\\Sigma}, \\sigma_0^2).\n",
    "$$\n",
    "\n",
    "In HW4, we used the nonlinear programming (NLP) approach (Newton type algorithms) for optimization. In this assignment, we derive and implement an expectation-maximization (EM) algorithm for the same problem."
   ]
  },
  {
   "cell_type": "code",
   "execution_count": null,
   "metadata": {},
   "outputs": [],
   "source": [
    "# load necessary packages; make sure install them first\n",
    "using BenchmarkTools, Distributions, LinearAlgebra, Random, Revise"
   ]
  },
  {
   "cell_type": "markdown",
   "metadata": {},
   "source": [
    "## Q1. (10 pts) Refresher on normal-normal model\n",
    "\n",
    "Assume the conditional distribution\n",
    "$$\n",
    "\\mathbf{y} \\mid \\boldsymbol{\\gamma} \\sim N(\\mathbf{X} \\boldsymbol{\\beta} + \\mathbf{Z} \\boldsymbol{\\gamma}, \\sigma^2 \\mathbf{I}_n)\n",
    "$$\n",
    "and the prior distribution\n",
    "$$\n",
    "\\boldsymbol{\\gamma} \\sim N(\\mathbf{0}_q, \\boldsymbol{\\Sigma}).\n",
    "$$\n",
    "By the Bayes theorem, the posterior distribution is\n",
    "\\begin{eqnarray*}\n",
    "f(\\boldsymbol{\\gamma} \\mid \\mathbf{y}) &=& \\frac{f(\\mathbf{y} \\mid \\boldsymbol{\\gamma}) \\times f(\\boldsymbol{\\gamma})}{f(\\mathbf{y})}, \\end{eqnarray*}\n",
    "where $f$ denotes corresponding density. \n",
    "\n",
    "Show that the posterior distribution of random effects $\\boldsymbol{\\gamma}$ is a multivariate normal with mean\n",
    "\\begin{eqnarray*}\n",
    "\\mathbb{E} (\\boldsymbol{\\gamma} \\mid \\mathbf{y}) &=& \\sigma^{-2} (\\sigma^{-2} \\mathbf{Z}^T \\mathbf{Z} + \\boldsymbol{\\Sigma}^{-1})^{-1 } \\mathbf{Z}^T (\\mathbf{y} - \\mathbf{X} \\boldsymbol{\\beta}) \\\\\n",
    "&=& \\boldsymbol{\\Sigma} \\mathbf{Z}^T (\\mathbf{Z} \\boldsymbol{\\Sigma} \\mathbf{Z}^T + \\sigma^2 \\mathbf{I})^{-1} (\\mathbf{y} - \\mathbf{X} \\boldsymbol{\\beta})\n",
    "\\end{eqnarray*}\n",
    "and covariance\n",
    "\\begin{eqnarray*}\n",
    "\\text{Var} (\\boldsymbol{\\gamma} \\mid \\mathbf{y}) &=& (\\sigma^{-2} \\mathbf{Z}^T \\mathbf{Z} + \\boldsymbol{\\Sigma}^{-1})^{-1} \\\\\n",
    "&=& \\boldsymbol{\\Sigma} - \\boldsymbol{\\Sigma} \\mathbf{Z}^T (\\mathbf{Z} \\boldsymbol{\\Sigma} \\mathbf{Z}^T + \\sigma^2 \\mathbf{I})^{-1} \\mathbf{Z} \\boldsymbol{\\Sigma}.\n",
    "\\end{eqnarray*}"
   ]
  },
  {
   "cell_type": "markdown",
   "metadata": {},
   "source": [
    "## Q2 Solution\n",
    "The distribution $f(\\gamma|y)$ is proportional to $f(y|\\gamma)f(\\gamma)$. Therefore, \n",
    "$$\n",
    "\\begin{align*}\n",
    "f(\\gamma|y)\\propto f(y|\\gamma)f(\\gamma)&=N(y;X\\beta+Z\\gamma,\\sigma^2I)N(\\gamma;0,\\Sigma)\\\\\n",
    "&=\\exp\\Big(-\\frac{1}{2\\sigma^2}(y-X\\beta-Z\\gamma)^\\top(y-X\\beta-Z\\gamma)\\Big)\\exp\\Big(-\\frac{1}{2}\\gamma^\\top\\Sigma^{-1}\\gamma\\Big).\n",
    "\\end{align*}\n",
    "$$\n",
    "The crux of this argument will be combining the quadratic forms in the exponentials. I'll start first with what I'm after: From conjugacy, I know the posterior will be Gaussian, so I need the quadratic forms to combine as \n",
    "$$\n",
    "\\begin{align}\n",
    "(\\gamma-m)^\\top M(\\gamma-m)\n",
    "\\end{align}\n",
    "$$\n",
    "for some $m$ and some $M$.\n",
    "\n",
    "Therefore,\n",
    "$$\n",
    "\\begin{align*}\n",
    "(\\gamma-m)^\\top M(\\gamma-m)&\\equiv (y-X\\beta-Z\\gamma)^\\top(y-X\\beta-Z\\gamma)/\\sigma^2+\\gamma^\\top\\Sigma^{-1}\\gamma\\\\\n",
    "&=(y-X\\beta)^\\top(y-X\\beta)/\\sigma^2+\\gamma^\\top Z^\\top Z\\gamma/\\sigma^2-2\\gamma^\\top Z^\\top(y-X\\beta)/\\sigma^2+\\gamma^\\top\\Sigma^{-1}\\gamma\\\\\n",
    "&\\propto\\gamma^\\top(Z^\\top Z/\\sigma^2+\\Sigma^{-1})\\gamma-2\\gamma^\\top Z^\\top(y-X\\beta)/\\sigma^2.\n",
    "\\end{align*}\n",
    "$$\n",
    "Expanding $(\\gamma-m)^\\top M(\\gamma-m)$ and symbol-matching gives\n",
    "$$\n",
    "\\begin{align*}\n",
    "M&=Z^\\top Z/\\sigma^2+\\Sigma^{-1}\\\\\n",
    "m&=M^{-1}Z^\\top(y-X\\beta)/\\sigma^2.\n",
    "\\end{align*}\n",
    "$$\n",
    "After I combine these quadratic forms, I can recognize the kernel of a Gaussian $N(m,M^{-1})$, which exactly matches the moments above after applying the Woodbury identity to $M^{-1}$."
   ]
  },
  {
   "cell_type": "markdown",
   "metadata": {},
   "source": [
    "## Q2. (20 pts) Derive EM algorithm\n",
    "\n",
    "1. Write down the complete log-likelihood\n",
    "$$\n",
    "\\sum_{i=1}^m \\log f(\\mathbf{y}_i, \\boldsymbol{\\gamma}_i \\mid \\boldsymbol{\\beta}, \\boldsymbol{\\Sigma}, \\sigma^2)\n",
    "$$\n",
    "\n",
    "2. Derive the $Q$ function (E-step).\n",
    "$$\n",
    "Q(\\boldsymbol{\\beta}, \\boldsymbol{\\Sigma}, \\sigma^2 \\mid \\boldsymbol{\\beta}^{(t)}, \\boldsymbol{\\Sigma}^{(t)}, \\sigma^{2(t)}).\n",
    "$$\n",
    "\n",
    "3. Derive the EM (or ECM) update of $\\boldsymbol{\\beta}$, $\\boldsymbol{\\Sigma}$, and $\\sigma^2$ (M-step). "
   ]
  },
  {
   "cell_type": "markdown",
   "metadata": {},
   "source": [
    "## Q2. Solution\n",
    "1.\n",
    "For the $i$-th data point, the model is given as\n",
    "$$\n",
    "y_i=X_i\\beta+Z_i\\gamma_i+\\varepsilon_i.\n",
    "$$\n",
    "Therefore, I can re-express this as a multivariate linear model through\n",
    "\\begin{align*}\n",
    "\\begin{pmatrix}\n",
    "y_1\\\\\n",
    "\\vdots\\\\\n",
    "y_m\n",
    "\\end{pmatrix}&=\n",
    "\\begin{pmatrix}\n",
    "X_1\\\\\n",
    "\\vdots\\\\\n",
    "X_m\n",
    "\\end{pmatrix}\n",
    "\\begin{pmatrix}\n",
    "\\beta\\\\\n",
    "\\vdots\\\\\n",
    "\\beta\n",
    "\\end{pmatrix}+\n",
    "\\begin{pmatrix}\n",
    "Z_1 & 0 & \\cdots & 0\\\\\n",
    "0 & Z_2 & \\cdots & 0\\\\\n",
    "\\vdots & \\vdots & \\ddots & \\vdots\\\\\n",
    "0 & 0 & \\cdots & Z_m\n",
    "\\end{pmatrix}\\begin{pmatrix}\n",
    "\\gamma_1\\\\\n",
    "\\vdots\\\\\n",
    "\\gamma_m\n",
    "\\end{pmatrix}+\n",
    "\\begin{pmatrix}\n",
    "\\varepsilon_1\\\\\n",
    "\\vdots\\\\\n",
    "\\varepsilon_m\n",
    "\\end{pmatrix}\\\\\n",
    "\\Rightarrow\\mathbf{y}&=\\mathbf{X}\\boldsymbol{\\beta}+\\mathbf{Z}\\boldsymbol\\gamma+\\boldsymbol\\varepsilon.\n",
    "\\end{align*}\n",
    "1. \n",
    "To find the joint log-likelihood, I notice\n",
    "$$\n",
    "\\sum \\log f({y}_i, {\\gamma}_i \\mid {\\beta}, {\\Sigma}, \\sigma^2)=\\sum_i\\log f({y}_i|{\\gamma}_i, {\\beta}, {\\Sigma}, \\sigma^2)+\\sum_i\\log f(\\gamma_i \\mid {\\Sigma}).\n",
    "$$\n",
    "\n",
    "2. \n",
    "To derive the expectation-maximum algorithm, I'll start with what I know: the joint log-likelihood is maximized at the quantities $(\\hat{\\boldsymbol\\beta},\\hat\\sigma^2)$ and $\\hat{\\boldsymbol\\Sigma}$. The MLE $(\\hat{\\boldsymbol\\beta},\\hat\\sigma^2)$ maximizes the first component of the joint log-likelihood\n",
    "$$\n",
    "\\begin{align*}\n",
    "\\sum_i\\log f({y}_i|{\\gamma}_i, {\\beta}, {\\Sigma}, \\sigma^2),\n",
    "\\end{align*}\n",
    "$$\n",
    "while the MLE $\\hat\\Sigma$ maximizes \n",
    "$$\n",
    "\\begin{align*}\n",
    "\\sum_i\\log f(\\gamma_i \\mid {\\Sigma}).\n",
    "\\end{align*}\n",
    "$$\n",
    "This is a normal model, so I know the explicit form the MLEs will take, namely\n",
    "$$\n",
    "\\begin{align*}\n",
    "\\hat{\\boldsymbol{\\beta}} &= (\\mathbf{X}^\\top \\mathbf{X})^{-1}\\mathbf{X}^\\top(\\mathbf{y}-\\mathbf{Z}\\boldsymbol{\\gamma})\\\\\n",
    "\\Rightarrow\\hat\\beta &= (\\sum_{i=1}^m X_i^\\top X_i)^{-1}\\sum_{i=1}^m X_i^\\top(y_i-Z_i\\gamma_i)\\\\\n",
    "\\hat\\sigma^2&=\\frac{RSS}{\\sum_i n_i}=\\frac{1}{\\sum_i n_i}(\\mathbf{y}-\\mathbf X\\boldsymbol\\beta-\\mathbf Z\\boldsymbol\\gamma)^\\top(\\mathbf{y}-\\mathbf X\\boldsymbol\\beta-\\mathbf Z\\boldsymbol\\gamma)\\\\\n",
    "&=\\frac{1}{\\sum_i n_i}\\big[(\\mathbf{y}-\\mathbf X\\boldsymbol\\beta)^\\top(\\mathbf{y}-\\mathbf X\\boldsymbol\\beta)-2\\boldsymbol\\gamma^\\top\\mathbf Z^\\top(\\mathbf y-\\mathbf X\\boldsymbol\\beta)+\\boldsymbol\\gamma^\\top\\mathbf Z^\\top\\mathbf Z\\boldsymbol\\gamma\\big]\\\\\n",
    "\\hat{\\Sigma} &=\\frac{1}{m}\\sum_{i=1}^m\\gamma_i\\gamma_i^\\top\n",
    "\\end{align*}\n",
    "$$\n",
    "Only the last MLE might be non-elementary, so I'll quickly derive it. Start with the log-likelihood for $\\Sigma$ and then find $\\nabla_\\Sigma$ and equate to zero. The log-likelihood for $\\Sigma$ is proportional to\n",
    "$$\n",
    "\\begin{align*}\n",
    "-\\frac{m}{2}\\log\\det(\\Sigma)-\\frac{1}{2}\\sum_{i=1}^m\\gamma_i^\\top\\Sigma^{-1}\\gamma_i.\n",
    "\\end{align*}\n",
    "$$\n",
    "The gradient of this is \n",
    "$$\n",
    "\\begin{align*}\n",
    "&\\nabla_\\Sigma\\Big\\{-\\frac{m}{2}\\log\\det(\\Sigma)-\\frac{1}{2}\\sum_{i=1}^m\\gamma_i^\\top\\Sigma^{-1}\\gamma_i\\Big\\}\\\\\n",
    "=&-\\frac{m}{2}\\Sigma^{-1}+\\frac{1}{2}\\sum_{i=1}^m\\Sigma^{-1}\\gamma_i\\gamma_i^\\top\\Sigma^{-1}:=0\\\\\n",
    "\\Rightarrow&\\hat{\\Sigma} = \\frac{1}{m}\\sum_{i=1}^m\\gamma_i\\gamma_i^\\top.\n",
    "\\end{align*}\n",
    "$$\n",
    "By the structure of this multivariate regression, the MLEs $\\hat{\\boldsymbol\\beta}$, $\\hat{\\boldsymbol\\Sigma}$, and $\\hat{\\sigma}^2$ depend on knowing $\\gamma_i$ and $\\gamma_i\\gamma_i^\\top$. The expectation-maximization algorithm uses the expectation $\\mathbb E[\\gamma_i|y_i,\\beta,\\sigma^2,\\Sigma]$ to get estimates for these quantities and then iteratively updates them.\n",
    "The expectation $\\mathbb E[\\gamma_i|y_i]$ is just the mean I calculated in Q1\n",
    "$$\n",
    "m_i:=\\Sigma {Z_i}^T ({Z_i} {\\Sigma} {Z_i}^T + \\sigma^2 {I})^{-1} ({y_i} - {X_i} {\\beta}),\n",
    "$$\n",
    "so I'll use this to fix $\\gamma_i$. I still need to fix $\\gamma_i\\gamma_i^\\top$, so I'll use \n",
    "$$\n",
    "\\mathbb E[\\gamma_i\\gamma_i^\\top|y_i]=M_i^{-1} + \\mathbb E[\\gamma_i|y_i]\\mathbb E[\\gamma_i|y_i]^\\top.\n",
    "$$\n",
    "\n",
    "3.\n",
    "Therefore, the maximization step will be\n",
    "$$\n",
    "\\begin{align*}\n",
    "\\boldsymbol{\\beta}_{s+1} &= (\\mathbf{X}^\\top \\mathbf{X})^{-1}\\mathbf{X}^\\top(\\mathbf{y}-\\mathbf{Z}\\mathbb E[\\boldsymbol\\gamma|\\mathbf y,\\boldsymbol{\\beta}_{s},\\sigma^2_{s},\\boldsymbol{\\Sigma}_{s}])\\\\\n",
    "\\sigma^2_{s+1} &= \\frac{1}{\\sum_i n_i}\\big[(\\mathbf{y}-\\mathbf X\\boldsymbol\\beta)^\\top(\\mathbf{y}-\\mathbf X\\boldsymbol\\beta_s)-2(\\mathbf y-\\mathbf X\\boldsymbol\\beta_s)^\\top\\mathbf Z\\mathbb E[\\boldsymbol\\gamma|\\mathbf y,\\boldsymbol\\beta_s,\\sigma_s^2,\\boldsymbol\\Sigma_s]+tr(\\mathbf Z^\\top\\mathbf Z\\mathbb E[\\boldsymbol{\\gamma\\gamma}^\\top|\\mathbf y,\\boldsymbol{\\beta}_{s},\\sigma^2_{s},\\boldsymbol{\\Sigma}_{s}])\\big]\\\\\n",
    "&=\\frac{1}{\\sum_i n_i}\\big[(\\sum_{i=1}^m({y_i}-X_i\\beta_s)^\\top(y_i-X_i\\beta_s)-2\\sum_{i=1}^m(y_i-X_i\\beta)^\\top Z_i\\mathbb E[\\gamma_i|y_i]+\\sum_{i=1}^m tr(Z_iZ_i^\\top\\mathbb E[\\gamma_i\\gamma_i^\\top|y_i])\\big]\\\\\n",
    "\\boldsymbol\\Sigma_{s+1}&=\\sum_{i=n}^n \\mathbb E[\\gamma_i\\gamma_i^\\top|y_i,{\\beta}_{s},\\sigma^2_{s},\\Sigma_{s}]\n",
    "\\end{align*}\n",
    "$$"
   ]
  },
  {
   "cell_type": "markdown",
   "metadata": {},
   "source": [
    "## Q3. (20 pts) Objective of a single datum\n",
    "\n",
    "We modify the code from HW4 to evaluate the objective, the conditional mean of $\\boldsymbol{\\gamma}$, and the conditional variance of $\\boldsymbol{\\gamma}$. Start-up code is provided below. You do _not_ have to use this code."
   ]
  },
  {
   "cell_type": "code",
   "execution_count": null,
   "metadata": {},
   "outputs": [],
   "source": [
    "# define a type that holds an LMM datum\n",
    "struct LmmObs{T <: AbstractFloat}\n",
    "    # data\n",
    "    y          :: Vector{T}\n",
    "    X          :: Matrix{T}\n",
    "    Z          :: Matrix{T}\n",
    "    # posterior mean and variance of random effects γ\n",
    "    μγ         :: Vector{T} # posterior mean of random effects\n",
    "    νγ         :: Matrix{T} # posterior variance of random effects\n",
    "    # TODO: add whatever intermediate arrays you may want to pre-allocate\n",
    "    yty        :: T\n",
    "    rtr        :: Vector{T}\n",
    "    xty        :: Vector{T}\n",
    "    zty        :: Vector{T}\n",
    "    ztr        :: Vector{T}\n",
    "    ltztr      :: Vector{T}\n",
    "    xtr        :: Vector{T}\n",
    "    storage_p  :: Vector{T}\n",
    "    storage_q  :: Vector{T}\n",
    "    storage_q2  :: Vector{T}\n",
    "    xtx        :: Matrix{T}\n",
    "    ztx        :: Matrix{T}\n",
    "    ztz        :: Matrix{T}\n",
    "    ltztzl     :: Matrix{T}\n",
    "    storage_qq :: Matrix{T}\n",
    "    storage_qq2 :: Matrix{T}\n",
    "end\n",
    "\n",
    "\"\"\"\n",
    "    LmmObs(y::Vector, X::Matrix, Z::Matrix)\n",
    "\n",
    "Create an LMM datum of type `LmmObs`.\n",
    "\"\"\"\n",
    "function LmmObs(\n",
    "    y::Vector{T}, \n",
    "    X::Matrix{T}, \n",
    "    Z::Matrix{T}) where T <: AbstractFloat\n",
    "    n, p, q = size(X, 1), size(X, 2), size(Z, 2)\n",
    "    μγ         = Vector{T}(undef, q)\n",
    "    νγ         = Matrix{T}(undef, q, q)\n",
    "    yty        = abs2(norm(y))\n",
    "    rtr        = Vector{T}(undef, 1)\n",
    "    xty        = transpose(X) * y\n",
    "    zty        = transpose(Z) * y\n",
    "    ztr        = similar(zty)\n",
    "    ltztr      = similar(zty)\n",
    "    xtr        = Vector{T}(undef, p)\n",
    "    storage_p  = similar(xtr)\n",
    "    storage_q  = Vector{T}(undef, q)\n",
    "    storage_q2  = Vector{T}(undef, q)\n",
    "    xtx        = transpose(X) * X\n",
    "    ztx        = transpose(Z) * X\n",
    "    ztz        = transpose(Z) * Z\n",
    "    ltztzl     = similar(ztz)\n",
    "    storage_qq = similar(ztz)\n",
    "    storage_qq2 = similar(ztz)\n",
    "\n",
    "    LmmObs(y, X, Z, μγ, νγ, \n",
    "        yty, rtr, xty, zty, ztr, ltztr, xtr,\n",
    "        storage_p, storage_q, storage_q2, \n",
    "        xtx, ztx, ztz, ltztzl, storage_qq, storage_qq2)\n",
    "end\n",
    "\n",
    "\"\"\"\n",
    "    logl!(obs::LmmObs, β, Σ, L, σ², updater = false)\n",
    "\n",
    "Evaluate the log-likelihood of a single LMM datum at parameter values `β`, `Σ`, \n",
    "and `σ²`. The lower triangular Cholesky factor `L` of `Σ` must be supplied too.\n",
    "The fields `obs.μγ` and `obs.νγ` are overwritten by the posterior mean and \n",
    "posterior variance of random effects. If `updater==true`, fields `obs.ztr`, \n",
    "`obs.xtr`, and `obs.rtr` are updated according to input parameter values. \n",
    "Otherwise, it assumes these three fields are pre-computed. \n",
    "\"\"\"\n",
    "function logl!(\n",
    "        obs     :: LmmObs{T}, \n",
    "        β       :: Vector{T}, \n",
    "        Σ       :: Matrix{T},\n",
    "        L       :: Matrix{T},\n",
    "        σ²      :: T,\n",
    "        updater :: Bool = false\n",
    "        ) where T <: AbstractFloat\n",
    "    n, p, q = size(obs.X, 1), size(obs.X, 2), size(obs.Z, 2)\n",
    "    σ²inv   = inv(σ²)\n",
    "    ####################\n",
    "    # Evaluate objective\n",
    "    ####################\n",
    "    # form the q-by-q matrix: Lt Zt Z L\n",
    "    copy!(obs.ltztzl, obs.ztz)\n",
    "    BLAS.trmm!('L', 'L', 'T', 'N', T(1), L, obs.ltztzl) # O(q^3)\n",
    "    BLAS.trmm!('R', 'L', 'N', 'N', T(1), L, obs.ltztzl) # O(q^3)        \n",
    "    # form the q-by-q matrix: M = σ² I + Lt Zt Z L\n",
    "    copy!(obs.storage_qq, obs.ltztzl)\n",
    "    @inbounds for j in 1:q\n",
    "        obs.storage_qq[j, j] += σ²\n",
    "    end\n",
    "    LAPACK.potrf!('U', obs.storage_qq) # O(q^3)\n",
    "    # Zt * res\n",
    "    updater && BLAS.gemv!('N', T(-1), obs.ztx, β, T(1), copy!(obs.ztr, obs.zty)) # O(pq)\n",
    "    # Lt * (Zt * res)\n",
    "    BLAS.trmv!('L', 'T', 'N', L, copy!(obs.ltztr, obs.ztr))    # O(q^2)\n",
    "    # storage_q = (Mchol.U') \\ (Lt * (Zt * res))\n",
    "    BLAS.trsv!('U', 'T', 'N', obs.storage_qq, copy!(obs.storage_q, obs.ltztr)) # O(q^3)\n",
    "    # Xt * res = Xt * y - Xt * X * β\n",
    "    updater && BLAS.gemv!('N', T(-1), obs.xtx, β, T(1), copy!(obs.xtr, obs.xty))\n",
    "    # l2 norm of residual vector\n",
    "    updater && (obs.rtr[1] = obs.yty - dot(obs.xty, β) - dot(obs.xtr, β))\n",
    "    # assemble pieces\n",
    "    logl::T = n * log(2π) + (n - q) * log(σ²) # constant term\n",
    "    @inbounds for j in 1:q # log det term\n",
    "        logl += 2log(obs.storage_qq[j, j])\n",
    "    end\n",
    "    qf    = abs2(norm(obs.storage_q)) # quadratic form term\n",
    "    logl += (obs.rtr[1] - qf) * σ²inv \n",
    "    logl /= -2\n",
    "    ######################################\n",
    "    # TODO: Evaluate posterior mean and variance\n",
    "    ###################################### \n",
    "    \n",
    "    copy!(obs.storage_qq2, L)\n",
    "    LAPACK.trtri!('L', 'N', obs.storage_qq2) # invert cholesky factor of Σ\n",
    "    BLAS.gemm!('T','N',T(1),obs.storage_qq2, obs.storage_qq2, T(0), obs.storage_qq) # get full Σ⁻¹\n",
    "    BLAS.axpy!(1/σ², obs.ztz, obs.storage_qq) # add Z'Z/σ² to Σ⁻¹\n",
    "    \n",
    "    copy!(obs.storage_qq2, obs.storage_qq)\n",
    "    LAPACK.potrf!('U',obs.storage_qq2) # Cholesky decompose Z'Z/σ² + Σ⁻¹ as UᵀU\n",
    "    LAPACK.potri!('U', obs.storage_qq2) # invert cholesky decomposition\n",
    "    LinearAlgebra.copytri!(obs.storage_qq2, 'U')\n",
    "\n",
    "    BLAS.gemm!('N','N',T(1),obs.storage_qq2, obs.ztr, T(0), obs.storage_q2) # get M⁻¹Z'r\n",
    "    obs.storage_q2 ./= σ²\n",
    "    \n",
    " \n",
    "    obs.μγ .= obs.storage_q2\n",
    "    obs.νγ .= obs.storage_qq2\n",
    "    ###################\n",
    "    # Return\n",
    "    ###################        \n",
    "    return logl\n",
    "end\n"
   ]
  },
  {
   "cell_type": "markdown",
   "metadata": {},
   "source": [
    "It is a good idea to test correctness and efficiency of the single datum objective/posterior mean/var evaluator here. It's the same test datum in HW2 and HW4."
   ]
  },
  {
   "cell_type": "code",
   "execution_count": 4,
   "metadata": {},
   "outputs": [],
   "source": [
    "Random.seed!(257)\n",
    "# dimension\n",
    "n, p, q = 2000, 5, 3\n",
    "# predictors\n",
    "X = [ones(n) randn(n, p - 1)]\n",
    "Z = [ones(n) randn(n, q - 1)]\n",
    "# parameter values\n",
    "β  = [2.0; -1.0; rand(p - 2)]\n",
    "σ² = 1.5\n",
    "Σ  = fill(0.1, q, q) + 0.9I # compound symmetry \n",
    "#L = Matrix(Symmetric(Σ))\n",
    "#LAPACK.potrf!('L', L)\n",
    "L  = Matrix(cholesky(Symmetric(Σ)).L)\n",
    "# generate y\n",
    "y  = X * β + Z * rand(MvNormal(Σ)) + sqrt(σ²) * randn(n)\n",
    "\n",
    "# form the LmmObs object\n",
    "obs = LmmObs(y, X, Z);"
   ]
  },
  {
   "cell_type": "markdown",
   "metadata": {},
   "source": [
    "### Correctness"
   ]
  },
  {
   "cell_type": "code",
   "execution_count": 5,
   "metadata": {},
   "outputs": [
    {
     "name": "stdout",
     "output_type": "stream",
     "text": [
      "logl = logl!(obs, β, Σ, L, σ², true) = -3247.4568580638243\n",
      "obs.μγ = [-1.7352999248283547, -1.223466577704898, -0.2502019040776347]\n",
      "obs.νγ = [0.0007495521480103862 4.1880268195223775e-6 8.59502834901115e-6; 4.1880268195223775e-6 0.0007599372708603274 -1.0092121486077335e-5; 8.59502834901115e-6 -1.0092121486077335e-5 0.0007370698232610101]\n"
     ]
    }
   ],
   "source": [
    "@show logl = logl!(obs, β, Σ, L, σ², true)\n",
    "@show obs.μγ\n",
    "@show obs.νγ;"
   ]
  },
  {
   "cell_type": "code",
   "execution_count": null,
   "metadata": {},
   "outputs": [],
   "source": []
  },
  {
   "cell_type": "markdown",
   "metadata": {},
   "source": [
    "You will lose all 20 points if following statement throws `AssertionError`."
   ]
  },
  {
   "cell_type": "code",
   "execution_count": 6,
   "metadata": {},
   "outputs": [],
   "source": [
    "@assert abs(logl - (-3247.4568580638247)) < 1e-8\n",
    "@assert norm(obs.μγ - [-1.7352999248278138, \n",
    "        -1.2234665777052611, -0.25020190407767146]) < 1e-8\n",
    "@assert norm(obs.νγ - [0.0007495521482876466 4.188026899159083e-6 8.595028393969659e-6; \n",
    "        4.1880268803062436e-6 0.0007599372708508531 -1.0092121451703577e-5; \n",
    "        8.595028373480989e-6 -1.009212147054782e-5 0.0007370698230021235]) < 1e-8"
   ]
  },
  {
   "cell_type": "markdown",
   "metadata": {},
   "source": [
    "### Efficiency"
   ]
  },
  {
   "cell_type": "markdown",
   "metadata": {},
   "source": [
    "Benchmark for efficiency."
   ]
  },
  {
   "cell_type": "code",
   "execution_count": 7,
   "metadata": {
    "scrolled": true
   },
   "outputs": [
    {
     "data": {
      "text/plain": [
       "BenchmarkTools.Trial: \n",
       "  memory estimate:  0 bytes\n",
       "  allocs estimate:  0\n",
       "  --------------\n",
       "  minimum time:     1.556 μs (0.00% GC)\n",
       "  median time:      1.569 μs (0.00% GC)\n",
       "  mean time:        1.626 μs (0.00% GC)\n",
       "  maximum time:     5.554 μs (0.00% GC)\n",
       "  --------------\n",
       "  samples:          10000\n",
       "  evals/sample:     10"
      ]
     },
     "execution_count": 7,
     "metadata": {},
     "output_type": "execute_result"
    }
   ],
   "source": [
    "bm_obj = @benchmark logl!($obs, $β, $Σ, $L, $σ², true)"
   ]
  },
  {
   "cell_type": "markdown",
   "metadata": {},
   "source": [
    "My median runt time is 1.7μs. You will get full credit if the median run time is within 10μs. The points you will get are"
   ]
  },
  {
   "cell_type": "code",
   "execution_count": 8,
   "metadata": {},
   "outputs": [
    {
     "data": {
      "text/plain": [
       "10.0"
      ]
     },
     "execution_count": 8,
     "metadata": {},
     "output_type": "execute_result"
    }
   ],
   "source": [
    "clamp(10 / (median(bm_obj).time / 1e3) * 10, 0, 10)"
   ]
  },
  {
   "cell_type": "code",
   "execution_count": 9,
   "metadata": {},
   "outputs": [],
   "source": [
    "# # check for type stability\n",
    "# @code_warntype logl!(obs, β, Σ, L, σ²)"
   ]
  },
  {
   "cell_type": "code",
   "execution_count": 10,
   "metadata": {},
   "outputs": [],
   "source": [
    "# using Profile\n",
    "\n",
    "# Profile.clear()\n",
    "# @profile for i in 1:10000; logl!(obs, β, Σ, L, σ²); end\n",
    "# Profile.print(format=:flat)"
   ]
  },
  {
   "cell_type": "markdown",
   "metadata": {},
   "source": [
    "## Q4. LmmModel type\n",
    "\n",
    "We modify the `LmmModel` type in HW4 to hold all data points, model parameters, and intermediate arrays."
   ]
  },
  {
   "cell_type": "code",
   "execution_count": 11,
   "metadata": {},
   "outputs": [
    {
     "data": {
      "text/plain": [
       "LmmModel"
      ]
     },
     "execution_count": 11,
     "metadata": {},
     "output_type": "execute_result"
    }
   ],
   "source": [
    "# define a type that holds LMM model (data + parameters)\n",
    "struct LmmModel{T <: AbstractFloat}\n",
    "    # data\n",
    "    data :: Vector{LmmObs{T}}\n",
    "    # parameters\n",
    "    β      :: Vector{T}\n",
    "    Σ      :: Matrix{T}\n",
    "    L      :: Matrix{T}\n",
    "    σ²     :: Vector{T}    \n",
    "    # TODO: add whatever intermediate arrays you may want to pre-allocate\n",
    "    xty    :: Vector{T}\n",
    "    xtr    :: Vector{T}\n",
    "    ztr2   :: Vector{T}\n",
    "    xtxinv :: Matrix{T}\n",
    "    ztz2   :: Matrix{T}\n",
    "    storage_p   :: Vector{T}\n",
    "    storage_q   :: Vector{T}\n",
    "    storage_qq   :: Matrix{T}\n",
    "end\n",
    "\n",
    "\"\"\"\n",
    "    LmmModel(data::Vector{LmmObs})\n",
    "\n",
    "Create an LMM model that contains data and parameters.\n",
    "\"\"\"\n",
    "function LmmModel(obsvec::Vector{LmmObs{T}}) where T <: AbstractFloat\n",
    "    # dims\n",
    "    p      = size(obsvec[1].X, 2)\n",
    "    q      = size(obsvec[1].Z, 2)\n",
    "    # parameters\n",
    "    β      = Vector{T}(undef, p)\n",
    "    Σ      = Matrix{T}(undef, q, q)\n",
    "    L      = Matrix{T}(undef, q, q)\n",
    "    σ²     = Vector{T}(undef, 1)    \n",
    "    # intermediate arrays\n",
    "    xty    = zeros(T, p)\n",
    "    xtr    = similar(xty)\n",
    "    ztr2   = Vector{T}(undef, abs2(q))\n",
    "    xtxinv = zeros(T, p, p)\n",
    "    storage_p = similar(xty)\n",
    "    storage_q = Vector{T}(undef, q) \n",
    "    storage_qq = similar(L)\n",
    "    # pre-calculate \\sum_i Xi^T Xi and \\sum_i Xi^T y_i\n",
    "    @inbounds for i in eachindex(obsvec)\n",
    "        obs = obsvec[i]\n",
    "        BLAS.axpy!(T(1), obs.xtx, xtxinv)\n",
    "        BLAS.axpy!(T(1), obs.xty, xty)\n",
    "    end\n",
    "    # invert X'X\n",
    "    LAPACK.potrf!('U', xtxinv)\n",
    "    LAPACK.potri!('U', xtxinv)\n",
    "    LinearAlgebra.copytri!(xtxinv, 'U')\n",
    "    ztz2   = Matrix{T}(undef, abs2(q), abs2(q))\n",
    "    LmmModel(obsvec, β, Σ, L, σ², xty, xtr, ztr2, xtxinv,\n",
    "        ztz2,storage_p, storage_q, storage_qq)\n",
    "end"
   ]
  },
  {
   "cell_type": "markdown",
   "metadata": {},
   "source": [
    "## Q5. Implement EM update\n",
    "\n",
    "Let's write the key function `update_em!` that performs one iteration of EM update."
   ]
  },
  {
   "cell_type": "code",
   "execution_count": 58,
   "metadata": {},
   "outputs": [
    {
     "data": {
      "text/plain": [
       "update_em!"
      ]
     },
     "execution_count": 58,
     "metadata": {},
     "output_type": "execute_result"
    }
   ],
   "source": [
    "\"\"\"\n",
    "    update_em!(m::LmmModel, updater::Bool = false)\n",
    "\n",
    "Perform one iteration of EM update. It returns the log-likelihood calculated \n",
    "from input `m.β`, `m.Σ`, `m.L`, and `m.σ²`. These fields are then overwritten \n",
    "by the next EM iterate. The fields `m.data[i].xtr`, `m.data[i].ztr`, and \n",
    "`m.data[i].rtr` are updated according to the resultant `m.β`. If `updater==true`, \n",
    "the function first updates `m.data[i].xtr`, `m.data[i].ztr`, and \n",
    "`m.data[i].rtr` according to `m.β`. If `updater==false`, it assumes these fields \n",
    "are pre-computed.\n",
    "\"\"\"\n",
    "function update_em!(m::LmmModel{T}, updater::Bool = false) where T <: AbstractFloat\n",
    "    logl = zero(T)\n",
    "    n = length(m.data)\n",
    "    # TODO: update m.β\n",
    "    # m.β = (Xᵢ'Xᵢ)⁻¹Xᵢ'(yᵢ-Zᵢmᵢ)\n",
    "    fill!(m.storage_p, 0)\n",
    "    @inbounds for i in 1:n\n",
    "        logl += logl!(m.data[i], m.β, m.Σ, m.L, m.σ²[1], updater)\n",
    "        BLAS.gemv!('T', T(-1), m.data[i].ztx, m.data[i].μγ, T(1), m.storage_p)\n",
    "    end\n",
    "    BLAS.axpy!(T(1), m.xty, m.storage_p)\n",
    "    BLAS.gemv!('N', T(1), m.xtxinv, m.storage_p, T(0), m.β)\n",
    "    # TODO: update m.data[i].ztr, m.data[i].xtr, m.data[i].rtr\n",
    "    @inbounds for i in 1:n\n",
    "        BLAS.gemv!('N', T(-1), m.data[i].ztx, m.β, T(1), copy!(m.data[i].ztr, m.data[i].zty))\n",
    "        BLAS.gemv!('N', T(-1), m.data[i].xtx, m.β, T(1), copy!(m.data[i].xtr, m.data[i].xty))\n",
    "        m.data[i].rtr[1] = m.data[i].yty - dot(m.data[i].xty, m.β) - dot(m.data[i].xtr, m.β)\n",
    "    end\n",
    "    # TODO: update m.σ²\n",
    "    fill!(m.Σ, 0);nᵢ = 0\n",
    "    @inbounds for i in 1:n\n",
    "        m.σ²[1] += m.data[i].rtr[1]\n",
    "        m.σ²[1] += dot(m.data[i].ztz, m.data[i].νγ) #tr(Z'ZEγγ'|y)\n",
    "        BLAS.gemv!('N', T(1), m.data[i].ztz, m.data[i].μγ, T(0), m.storage_q)\n",
    "        BLAS.axpy!(T(-2), m.data[i].ztr, m.storage_q) # cross term\n",
    "        m.σ²[1] += dot(m.storage_q, m.data[i].μγ)\n",
    "        nᵢ += size(m.data[i].X, 1)\n",
    "        # update m.Σ\n",
    "        BLAS.axpy!(T(1), m.data[i].νγ, m.Σ) \n",
    "        BLAS.gemm!('N', 'T', T(1), m.data[i].μγ, m.data[i].μγ, T(1), m.Σ)\n",
    "    end\n",
    "    m.σ²[1] /= nᵢ\n",
    "    m.Σ ./= length(m.data)\n",
    "    copy!(m.L, m.Σ) # cholesky decompose Σ\n",
    "    LAPACK.potrf!('L', m.L)\n",
    "    # return log-likelihood at input parameter values\n",
    "    logl\n",
    "end"
   ]
  },
  {
   "cell_type": "markdown",
   "metadata": {},
   "source": [
    "## Q6. (30 pts) Test data\n",
    "\n",
    "Let's generate a fake longitudinal data set (same as HW4) to test our algorithm."
   ]
  },
  {
   "cell_type": "code",
   "execution_count": 59,
   "metadata": {},
   "outputs": [],
   "source": [
    "Random.seed!(257)\n",
    "\n",
    "# dimension\n",
    "m      = 1000 # number of individuals\n",
    "ns     = rand(1500:2000, m) # numbers of observations per individual\n",
    "p      = 5 # number of fixed effects, including intercept\n",
    "q      = 3 # number of random effects, including intercept\n",
    "obsvec = Vector{LmmObs{Float64}}(undef, m)\n",
    "# true parameter values\n",
    "βtrue  = [0.1; 6.5; -3.5; 1.0; 5]\n",
    "σ²true = 1.5\n",
    "σtrue  = sqrt(σ²true)\n",
    "Σtrue  = Matrix(Diagonal([2.0; 1.2; 1.0]))\n",
    "Ltrue  = Matrix(cholesky(Symmetric(Σtrue)).L)\n",
    "# generate data\n",
    "for i in 1:m\n",
    "    # first column intercept, remaining entries iid std normal\n",
    "    X = Matrix{Float64}(undef, ns[i], p)\n",
    "    X[:, 1] .= 1\n",
    "    @views Distributions.rand!(Normal(), X[:, 2:p])\n",
    "    # first column intercept, remaining entries iid std normal\n",
    "    Z = Matrix{Float64}(undef, ns[i], q)\n",
    "    Z[:, 1] .= 1\n",
    "    @views Distributions.rand!(Normal(), Z[:, 2:q])\n",
    "    # generate y\n",
    "    y = X * βtrue .+ Z * (Ltrue * randn(q)) .+ σtrue * randn(ns[i])\n",
    "    # form a LmmObs instance\n",
    "    obsvec[i] = LmmObs(y, X, Z)\n",
    "end\n",
    "# form a LmmModel instance\n",
    "lmm = LmmModel(obsvec);"
   ]
  },
  {
   "cell_type": "markdown",
   "metadata": {},
   "source": [
    "### Correctness\n",
    "\n",
    "Evaluate log-likelihood and gradient at the true parameter values."
   ]
  },
  {
   "cell_type": "code",
   "execution_count": 60,
   "metadata": {},
   "outputs": [
    {
     "name": "stdout",
     "output_type": "stream",
     "text": [
      "obj1 = update_em!(lmm, true) = -2.854712648683302e6\n",
      "lmm.β = [0.0999926726279833, 6.5001444038353, -3.498793255670913, 1.0004987618552164, 5.000049480766921]\n",
      "lmm.Σ = [2.0571260191161262 -0.010005181563164128 0.018147868730395873; -0.010005181563164128 1.1823115059222267 -0.022667932474031077; 0.018147868730395873 -0.022667932474031077 0.9380104634208111]\n",
      "lmm.L = [1.4342684613126395 -0.010005181563164128 0.018147868730395873; -0.006975808109178813 1.087319108644491 -0.022667932474031077; 0.012653048728260386 -0.020766366611781186 0.9682040703263111]\n",
      "lmm.σ² = [1.4990451246301146]\n",
      "\n",
      "obj2 = update_em!(lmm, false) = -2.8547098610628443e6\n",
      "lmm.β = [0.09998548093054863, 6.500144687707346, -3.4987912715251057, 1.0004995336389912, 5.000049506702866]\n",
      "lmm.Σ = [2.057172301212479 -0.00999843658826873 0.018139919876959325; -0.00999843658826873 1.1822846711285173 -0.02266381741245616; 0.018139919876959325 -0.02266381741245616 0.9379040474052037]\n",
      "lmm.L = [1.4342845956129067 -0.00999843658826873 0.018139919876959325; -0.00697102696274594 1.087306799349476 -0.02266381741245616; 0.012647364360214488 -0.02076290915130872 0.9681492618307975]\n",
      "lmm.σ² = [1.4990435336709524]\n"
     ]
    },
    {
     "data": {
      "text/plain": [
       "1-element Array{Float64,1}:\n",
       " 1.4990435336709524"
      ]
     },
     "execution_count": 60,
     "metadata": {},
     "output_type": "execute_result"
    }
   ],
   "source": [
    "copy!(lmm.β, βtrue)\n",
    "copy!(lmm.Σ, Σtrue)\n",
    "copy!(lmm.L, Ltrue)\n",
    "lmm.σ²[1] = σ²true\n",
    "@show obj1 = update_em!(lmm, true)\n",
    "@show lmm.β\n",
    "@show lmm.Σ\n",
    "@show lmm.L\n",
    "@show lmm.σ²\n",
    "println()\n",
    "@show obj2 = update_em!(lmm, false)\n",
    "@show lmm.β\n",
    "@show lmm.Σ\n",
    "@show lmm.L\n",
    "@show lmm.σ²"
   ]
  },
  {
   "cell_type": "markdown",
   "metadata": {},
   "source": [
    "Test correctness. You will loss all 30 points if following code throws `AssertError`."
   ]
  },
  {
   "cell_type": "code",
   "execution_count": 61,
   "metadata": {},
   "outputs": [],
   "source": [
    "@assert abs(obj1 - (-2.854712648683302e6)) < 1e-6\n",
    "@assert abs(obj2 - (-2.8547098610621705e6)) < 1e-6"
   ]
  },
  {
   "cell_type": "markdown",
   "metadata": {},
   "source": [
    "### Efficiency\n",
    "\n",
    "Test efficiency of EM update."
   ]
  },
  {
   "cell_type": "code",
   "execution_count": 62,
   "metadata": {},
   "outputs": [
    {
     "data": {
      "text/plain": [
       "BenchmarkTools.Trial: \n",
       "  memory estimate:  0 bytes\n",
       "  allocs estimate:  0\n",
       "  --------------\n",
       "  minimum time:     2.029 ms (0.00% GC)\n",
       "  median time:      2.287 ms (0.00% GC)\n",
       "  mean time:        2.341 ms (0.00% GC)\n",
       "  maximum time:     5.615 ms (0.00% GC)\n",
       "  --------------\n",
       "  samples:          2130\n",
       "  evals/sample:     1"
      ]
     },
     "execution_count": 62,
     "metadata": {},
     "output_type": "execute_result"
    }
   ],
   "source": [
    "bm_emupdate = @benchmark update_em!($lmm, true) setup=(\n",
    "    copy!(lmm.β, βtrue);\n",
    "    copy!(lmm.Σ, Σtrue);\n",
    "    copy!(lmm.L, Ltrue);\n",
    "    lmm.σ²[1] = σ²true)"
   ]
  },
  {
   "cell_type": "markdown",
   "metadata": {},
   "source": [
    "My median run time is 2.17ms. You will get full credit if your median run time is within 10ms. The points you will get are"
   ]
  },
  {
   "cell_type": "code",
   "execution_count": 63,
   "metadata": {},
   "outputs": [
    {
     "data": {
      "text/plain": [
       "10.0"
      ]
     },
     "execution_count": 63,
     "metadata": {},
     "output_type": "execute_result"
    }
   ],
   "source": [
    "clamp(10 / (median(bm_emupdate).time / 1e6) * 10, 0, 10)"
   ]
  },
  {
   "cell_type": "markdown",
   "metadata": {},
   "source": [
    "### Memory\n",
    "\n",
    "You will lose 1 point for each 100 bytes memory allocation. So the points you will get is"
   ]
  },
  {
   "cell_type": "code",
   "execution_count": 64,
   "metadata": {},
   "outputs": [
    {
     "data": {
      "text/plain": [
       "10.0"
      ]
     },
     "execution_count": 64,
     "metadata": {},
     "output_type": "execute_result"
    }
   ],
   "source": [
    "clamp(10 - median(bm_emupdate).memory / 100, 0, 10)"
   ]
  },
  {
   "cell_type": "markdown",
   "metadata": {},
   "source": [
    "## Q7. Starting point\n",
    "\n",
    "We use the same least squares estimates as in HW4 as starting point. "
   ]
  },
  {
   "cell_type": "code",
   "execution_count": 65,
   "metadata": {},
   "outputs": [
    {
     "data": {
      "text/plain": [
       "kron_axpy!"
      ]
     },
     "execution_count": 65,
     "metadata": {},
     "output_type": "execute_result"
    }
   ],
   "source": [
    "\"\"\"\n",
    "    init_ls!(m::LmmModel)\n",
    "\n",
    "Initialize parameters of a `LmmModel` object from the least squares estimate. \n",
    "`m.β`, `m.L`, and `m.σ²` are overwritten with the least squares estimates.\n",
    "\"\"\"\n",
    "function init_ls!(m::LmmModel{T}) where T <: AbstractFloat\n",
    "    p, q = size(m.data[1].X, 2), size(m.data[1].Z, 2)\n",
    "    # LS estimate for β\n",
    "    mul!(m.β, m.xtxinv, m.xty)\n",
    "    # LS etimate for σ2 and Σ\n",
    "    rss, ntotal = zero(T), 0\n",
    "    fill!(m.ztz2, 0)\n",
    "    fill!(m.ztr2, 0)    \n",
    "    @inbounds for i in eachindex(m.data)\n",
    "        obs = m.data[i]\n",
    "        ntotal += length(obs.y)\n",
    "        # update Xt * res\n",
    "        BLAS.gemv!('N', T(-1), obs.xtx, m.β, T(1), copy!(obs.xtr, obs.xty))\n",
    "        # rss of i-th individual\n",
    "        rss += obs.yty - dot(obs.xty, m.β) - dot(obs.xtr, m.β)\n",
    "        # update Zi' * res\n",
    "        BLAS.gemv!('N', T(-1), obs.ztx, m.β, T(1), copy!(obs.ztr, obs.zty))\n",
    "        # Zi'Zi ⊗ Zi'Zi\n",
    "        kron_axpy!(obs.ztz, obs.ztz, m.ztz2)\n",
    "        # Zi'res ⊗ Zi'res\n",
    "        kron_axpy!(obs.ztr, obs.ztr, m.ztr2)\n",
    "    end\n",
    "    m.σ²[1] = rss / ntotal\n",
    "    # LS estimate for Σ = LLt\n",
    "    LAPACK.potrf!('U', m.ztz2)\n",
    "    BLAS.trsv!('U', 'T', 'N', m.ztz2, m.ztr2)\n",
    "    BLAS.trsv!('U', 'N', 'N', m.ztz2, m.ztr2)\n",
    "    copyto!(m.Σ, m.ztr2)\n",
    "    copy!(m.L, m.Σ)\n",
    "    LAPACK.potrf!('L', m.L)\n",
    "    for j in 2:q, i in 1:j-1\n",
    "        m.L[i, j] = 0\n",
    "    end\n",
    "    m\n",
    "end\n",
    "\n",
    "\"\"\"\n",
    "    kron_axpy!(A, X, Y)\n",
    "\n",
    "Overwrite `Y` with `A ⊗ X + Y`. Same as `Y += kron(A, X)` but\n",
    "more memory efficient.\n",
    "\"\"\"\n",
    "function kron_axpy!(\n",
    "        A::AbstractVecOrMat{T},\n",
    "        X::AbstractVecOrMat{T},\n",
    "        Y::AbstractVecOrMat{T}\n",
    "        ) where T <: Real\n",
    "    m, n = size(A, 1), size(A, 2)\n",
    "    p, q = size(X, 1), size(X, 2)\n",
    "    @assert size(Y, 1) == m * p\n",
    "    @assert size(Y, 2) == n * q\n",
    "    @inbounds for j in 1:n\n",
    "        coffset = (j - 1) * q\n",
    "        for i in 1:m\n",
    "            a = A[i, j]\n",
    "            roffset = (i - 1) * p            \n",
    "            for l in 1:q\n",
    "                r = roffset + 1\n",
    "                c = coffset + l\n",
    "                for k in 1:p                \n",
    "                    Y[r, c] += a * X[k, l]\n",
    "                    r += 1\n",
    "                end\n",
    "            end\n",
    "        end\n",
    "    end\n",
    "    Y\n",
    "end"
   ]
  },
  {
   "cell_type": "code",
   "execution_count": 66,
   "metadata": {},
   "outputs": [
    {
     "name": "stdout",
     "output_type": "stream",
     "text": [
      "lmm.β = [0.08757868042872417, 6.498740647737429, -3.497052864661033, 0.9971817478195715, 5.000992653697893]\n",
      "lmm.Σ = [2.04716308425845 -0.002995972291969754 0.01891179766062129; -0.0029959722919697535 1.187049602755533 -0.012600387416032; 0.018911797660621284 -0.012600387416032 0.9228737560869614]\n",
      "lmm.L = [1.4307910693942878 0.0 0.0; -0.0020939271680232604 1.08951604771318 0.0; 0.013217721346714457 -0.0115397203158173 0.9605029322102014]\n",
      "lmm.σ² = [5.667244661294349]\n"
     ]
    },
    {
     "data": {
      "text/plain": [
       "1-element Array{Float64,1}:\n",
       " 5.667244661294349"
      ]
     },
     "execution_count": 66,
     "metadata": {},
     "output_type": "execute_result"
    }
   ],
   "source": [
    "init_ls!(lmm)\n",
    "@show lmm.β\n",
    "@show lmm.Σ\n",
    "@show lmm.L\n",
    "@show lmm.σ²"
   ]
  },
  {
   "cell_type": "markdown",
   "metadata": {},
   "source": [
    "## Q8. Estimation by EM\n",
    "\n",
    "We write a function `fit!` that implements the EM algorithm for estimating LMM."
   ]
  },
  {
   "cell_type": "code",
   "execution_count": 67,
   "metadata": {},
   "outputs": [
    {
     "data": {
      "text/plain": [
       "fit!"
      ]
     },
     "execution_count": 67,
     "metadata": {},
     "output_type": "execute_result"
    }
   ],
   "source": [
    "\"\"\"\n",
    "    fit!(m::LmmModel)\n",
    "\n",
    "Fit an `LmmModel` object by MLE using a EM algorithm. Start point \n",
    "should be provided in `m.β`, `m.σ²`, `m.L`.\n",
    "\"\"\"\n",
    "function fit!(\n",
    "        m       :: LmmModel;\n",
    "        maxiter :: Integer       = 10_000,\n",
    "        ftolrel :: AbstractFloat = 1e-12,\n",
    "        prtfreq :: Integer       = 0\n",
    "    )\n",
    "    obj = update_em!(m, true)\n",
    "    for iter in 0:maxiter\n",
    "        obj_old = obj\n",
    "        # EM update\n",
    "        obj = update_em!(m, false)\n",
    "        # print obj\n",
    "        prtfreq > 0 && rem(iter, prtfreq) == 0 && println(\"iter=$iter, obj=$obj\")\n",
    "        # check monotonicity\n",
    "        obj < obj_old && (@warn \"monotoniciy violated\")\n",
    "        # check convergence criterion\n",
    "        (obj - obj_old) < ftolrel * (abs(obj_old) + 1) && break\n",
    "        # warning about non-convergence\n",
    "        iter == maxiter && (@warn \"maximum iterations reached\")\n",
    "    end\n",
    "    m\n",
    "end\n"
   ]
  },
  {
   "cell_type": "markdown",
   "metadata": {},
   "source": [
    "## Q9. (20 pts) Test drive\n",
    "\n",
    "Now we can run our EM algorithm to compute the MLE."
   ]
  },
  {
   "cell_type": "code",
   "execution_count": 68,
   "metadata": {},
   "outputs": [
    {
     "name": "stdout",
     "output_type": "stream",
     "text": [
      "iter=0, obj=-2.854719643876485e6\n",
      "iter=100, obj=-2.8547097914012955e6\n",
      "iter=200, obj=-2.854709790941533e6\n",
      "iter=300, obj=-2.8547097905171304e6\n",
      "iter=400, obj=-2.8547097901253332e6\n",
      "iter=500, obj=-2.8547097897635843e6\n",
      "iter=600, obj=-2.854709789429535e6\n",
      "iter=700, obj=-2.8547097891210373e6\n",
      "  1.692702 seconds (135.66 k allocations: 6.432 MiB)\n",
      "objective value at solution: -2.8547097889785822e6\n",
      "\n",
      "solution values:\n",
      "lmm.β = [0.08626244702779734, 6.5001446884543475, -3.4987912684801077, 1.0004995348298902, 5.000049506866046]\n",
      "lmm.σ² = [1.499043531080369]\n",
      "lmm.L * transpose(lmm.L) = [2.05731930374695 -0.021106417085553067 0.03636835309503711; -0.021106417085553067 1.1827982894067757 -0.04460571983146433; 0.03636835309503711 -0.04460571983146433 0.9379038237762335]\n"
     ]
    },
    {
     "data": {
      "text/plain": [
       "3×3 Array{Float64,2}:\n",
       "  2.05732    -0.0211064   0.0363684\n",
       " -0.0211064   1.1828     -0.0446057\n",
       "  0.0363684  -0.0446057   0.937904"
      ]
     },
     "execution_count": 68,
     "metadata": {},
     "output_type": "execute_result"
    }
   ],
   "source": [
    "# initialize from least squares\n",
    "init_ls!(lmm)\n",
    "\n",
    "@time fit!(lmm, prtfreq = 100);\n",
    "\n",
    "println(\"objective value at solution: \", update_em!(lmm)); println()\n",
    "println(\"solution values:\")\n",
    "@show lmm.β\n",
    "@show lmm.σ²\n",
    "@show lmm.L * transpose(lmm.L)"
   ]
  },
  {
   "cell_type": "markdown",
   "metadata": {},
   "source": [
    "### Correctness\n",
    "\n",
    "You get 10 points if the following code does not throw `AssertError`."
   ]
  },
  {
   "cell_type": "code",
   "execution_count": 69,
   "metadata": {},
   "outputs": [],
   "source": [
    "# objective at solution should be close enough to the optimal\n",
    "@assert update_em!(lmm) > -2.85471e6"
   ]
  },
  {
   "cell_type": "markdown",
   "metadata": {},
   "source": [
    "### Efficiency\n",
    "\n",
    "My median run time 1.8s. You get 10 points if your median run time is within 5s."
   ]
  },
  {
   "cell_type": "code",
   "execution_count": 70,
   "metadata": {},
   "outputs": [
    {
     "data": {
      "text/plain": [
       "BenchmarkTools.Trial: \n",
       "  memory estimate:  0 bytes\n",
       "  allocs estimate:  0\n",
       "  --------------\n",
       "  minimum time:     1.452 s (0.00% GC)\n",
       "  median time:      1.456 s (0.00% GC)\n",
       "  mean time:        1.456 s (0.00% GC)\n",
       "  maximum time:     1.460 s (0.00% GC)\n",
       "  --------------\n",
       "  samples:          4\n",
       "  evals/sample:     1"
      ]
     },
     "execution_count": 70,
     "metadata": {},
     "output_type": "execute_result"
    }
   ],
   "source": [
    "bm_em = @benchmark fit!($lmm) setup = (init_ls!(lmm))"
   ]
  },
  {
   "cell_type": "code",
   "execution_count": 71,
   "metadata": {},
   "outputs": [
    {
     "data": {
      "text/plain": [
       "10.0"
      ]
     },
     "execution_count": 71,
     "metadata": {},
     "output_type": "execute_result"
    }
   ],
   "source": [
    "# this is the points you get\n",
    "clamp(5 / (median(bm_em).time / 1e9) * 10, 0, 10)"
   ]
  },
  {
   "cell_type": "markdown",
   "metadata": {},
   "source": [
    "## Q10. (10 pts) EM vs Newton type algorithms\n",
    "\n",
    "Contrast EM algorithm to the Newton type algorithms (gradient free, gradient based, using Hessian) in HW4, in terms of the stability, convergence rate (how fast the algorithm is converging),  final objective value, total run time, derivation, and implementation efforts. "
   ]
  },
  {
   "cell_type": "markdown",
   "metadata": {},
   "source": [
    "Conecptually, I think the EM algorithm makes more sense to me than the optimization used in HW4, and I found this reflected in my implementation efforts (last homework took me much longer to code). However the EM runtime is much slower, of similar order to lem4 at the end of HW4. Gradient-based methods were much faster, and every method had (expectedly) very similar answers. I like probability calculus, so I prefere the EM algorithm :)"
   ]
  },
  {
   "cell_type": "code",
   "execution_count": null,
   "metadata": {},
   "outputs": [],
   "source": []
  }
 ],
 "metadata": {
  "@webio": {
   "lastCommId": null,
   "lastKernelId": null
  },
  "kernelspec": {
   "display_name": "Julia 1.4.0",
   "language": "julia",
   "name": "julia-1.4"
  },
  "language_info": {
   "file_extension": ".jl",
   "mimetype": "application/julia",
   "name": "julia",
   "version": "1.4.0"
  },
  "toc": {
   "colors": {
    "hover_highlight": "#DAA520",
    "running_highlight": "#FF0000",
    "selected_highlight": "#FFD700"
   },
   "moveMenuLeft": true,
   "nav_menu": {
    "height": "87px",
    "width": "252px"
   },
   "navigate_menu": true,
   "number_sections": true,
   "sideBar": true,
   "skip_h1_title": true,
   "threshold": 4,
   "toc_cell": false,
   "toc_section_display": "block",
   "toc_window_display": false,
   "widenNotebook": false
  }
 },
 "nbformat": 4,
 "nbformat_minor": 4
}
