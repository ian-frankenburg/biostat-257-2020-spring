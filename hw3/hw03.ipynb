{
 "cells": [
  {
   "cell_type": "markdown",
   "metadata": {},
   "source": [
    "# Biostat 257 Homework 3\n",
    "\n",
    "**Due May 15 @ 11:59PM**\n",
    "\n",
    "**Ian Frankenburg**\n"
   ]
  },
  {
   "cell_type": "code",
   "execution_count": null,
   "metadata": {},
   "outputs": [],
   "source": [
    "versioninfo()"
   ]
  },
  {
   "cell_type": "code",
   "execution_count": 8,
   "metadata": {},
   "outputs": [],
   "source": [
    "using CodecBzip2, JuliaDB, CSV, IterableTables, SweepOperator, LinearAlgebra, \n",
    "    MatrixDepot, UnicodePlots, SparseArrays, IterativeSolvers, LinearMaps, \n",
    "    Statistics, Arpack, LinearAlgebra"
   ]
  },
  {
   "cell_type": "markdown",
   "metadata": {},
   "source": [
    "## Q1. (5 pts) Recognize structure\n",
    "\n",
    "Let $\\mathbf{A} \\in \\{0,1\\}^{n \\times n}$ be the connectivity matrix of $n$ web pages with entries\n",
    "$$\n",
    "\\begin{eqnarray*}\n",
    "\ta_{ij}= \\begin{cases}\n",
    "\t1 & \\text{if page $i$ links to page $j$} \\\\\n",
    "\t0 & \\text{otherwise}\n",
    "\t\\end{cases}.\n",
    "\\end{eqnarray*}\n",
    "$$\n",
    "$r_i = \\sum_j a_{ij}$ is the out-degree of page $i$. That is $r_i$ is the number of links on page $i$. Imagine a random surfer exploring the space of $n$ pages according to the following rules.  \n",
    "\n",
    "- From a page $i$ with $r_i>0$\n",
    "    * with probability $p$, (s)he randomly chooses a link on page $i$ (uniformly) and follows that link to the next page  \n",
    "    * with probability $1-p$, (s)he randomly chooses one page from the set of all $n$ pages (uniformly) and proceeds to that page  \n",
    "- From a page $i$ with $r_i=0$ (a dangling page), (s)he randomly chooses one page from the set of all $n$ pages (uniformly) and proceeds to that page  \n",
    "    \n",
    "The process defines a Markov chain on the space of $n$ pages. Write the transition matrix $\\mathbf{P}$ of the Markov chain as a sparse matrix plus rank 1 matrix."
   ]
  },
  {
   "cell_type": "markdown",
   "metadata": {},
   "source": [
    "I want an element $p_{ij}$ of the transition matrix $\\mathbf P$, which represents the probability of moving from page $i$ to page $j$. I have two cases to consider: case one will be when page $i$ contains external links, i.e., $r_i>0$. Case two will be when page $i$ contains no links, i.e., $r_i=0$. Therefore, $p_{ij}$ is given as\n",
    "$$\n",
    "p_{ij}=\n",
    "\\begin{cases}\n",
    "p\\frac{1}{r_i}+(1-p)\\frac{1}{n}&\\text{if }r_i>0\\\\\n",
    "\\frac{1}{n}&\\text{if }r_i=0\n",
    "\\end{cases}\n",
    "$$\n",
    "\n",
    "Now to write this as a sparse matrix plus a rank-one matrix, I define diagonal matrix $\\mathbf D$ with elements  \n",
    "$$\n",
    "d_{ii}:=\n",
    "\\begin{cases}\n",
    "\\frac{p}{r_i}&\\text{ if }r_i\\neq 0\\\\\n",
    "0&\\text{ otherwise}\n",
    "\\end{cases}\n",
    "$$\n",
    "Then I define the vector $\\mathbf z$ to form the needed rank-one matrix. Let component $j$ of $\\mathbf z$ be defined as\n",
    "$$\n",
    "z_j :=\\begin{cases}\n",
    "\\frac{(1-p)}{n}&\\text{ if } r_i\\neq 0\\\\\n",
    "\\frac{1}{n}&\\text{ otherwise}\n",
    "\\end{cases}\n",
    "$$\n",
    "Then\n",
    "$$\n",
    "\\mathbf P=\\mathbf{DA}+\\mathbf{z}\\mathbf{1}^{\\top}\n",
    "$$"
   ]
  },
  {
   "cell_type": "markdown",
   "metadata": {},
   "source": [
    "## Q2. Relate to numerical linear algebra\n",
    "\n",
    "According to standard Markov chain theory, the (random) position of the surfer converges to the stationary distribution $\\mathbf{x} = (x_1,\\ldots,x_n)^T$ of the Markov chain. $x_i$ has the natural interpretation of the proportion of times the surfer visits page $i$ in the long run. Therefore $\\mathbf{x}$ serves as page ranks: a higher $x_i$ means page $i$ is more visited. It is well-known that $\\mathbf{x}$ is the left eigenvector corresponding to the top eigenvalue 1 of the transition matrix $\\mathbf{P}$. That is $\\mathbf{P}^T \\mathbf{x} = \\mathbf{x}$. Therefore $\\mathbf{x}$ can be solved as an **eigen-problem**. It can also be cast as **solving a linear system**. Since the row sums of $\\mathbf{P}$ are 1, $\\mathbf{P}$ is rank deficient. We can replace the first equation by the $\\sum_{i=1}^n x_i = 1$.\n",
    "\n",
    "Hint: For iterative solvers, we don't need to replace the 1st equation. We can use the matrix $\\mathbf{I} - \\mathbf{P}^T$ directly if we start with a vector with all positive entries."
   ]
  },
  {
   "cell_type": "markdown",
   "metadata": {},
   "source": [
    "## Q3. (10 pts) Explore data\n",
    "\n",
    "Obtain the connectivity matrix `A` from the `SNAP/web-Google` data in the MatrixDepot package. "
   ]
  },
  {
   "cell_type": "code",
   "execution_count": 9,
   "metadata": {},
   "outputs": [
    {
     "data": {
      "text/latex": [
       "\\section{SNAP/web-Google}\n",
       "\\subsubparagraph{MatrixMarket matrix coordinate pattern general}\n",
       "\\rule{\\textwidth}{1pt}\n",
       "\\begin{itemize}\n",
       "\\item UF Sparse Matrix Collection, Tim Davis\n",
       "\n",
       "\n",
       "\\item http://www.cise.ufl.edu/research/sparse/matrices/SNAP/web-Google\n",
       "\n",
       "\n",
       "\\item name: SNAP/web-Google\n",
       "\n",
       "\n",
       "\\item [Web graph from Google]\n",
       "\n",
       "\n",
       "\\item id: 2301\n",
       "\n",
       "\n",
       "\\item date: 2002\n",
       "\n",
       "\n",
       "\\item author: Google\n",
       "\n",
       "\n",
       "\\item ed: J. Leskovec\n",
       "\n",
       "\n",
       "\\item fields: name title A id date author ed kind notes\n",
       "\n",
       "\n",
       "\\item kind: directed graph\n",
       "\n",
       "\\end{itemize}\n",
       "\\rule{\\textwidth}{1pt}\n",
       "\\begin{itemize}\n",
       "\\item notes:\n",
       "\n",
       "\n",
       "\\item Networks from SNAP (Stanford Network Analysis Platform) Network Data Sets,     \n",
       "\n",
       "\n",
       "\\item Jure Leskovec http://snap.stanford.edu/data/index.html                         \n",
       "\n",
       "\n",
       "\\item email jure at cs.stanford.edu                                                  \n",
       "\n",
       "\n",
       "\\item \n",
       "\\item Google web graph                                                               \n",
       "\n",
       "\n",
       "\\item \n",
       "\\item Dataset information                                                            \n",
       "\n",
       "\n",
       "\\item \n",
       "\\item Nodes represent web pages and directed edges represent hyperlinks between them.\n",
       "\n",
       "\n",
       "\\item The data was released in 2002 by Google as a part of Google Programming        \n",
       "\n",
       "\n",
       "\\item Contest.                                                                       \n",
       "\n",
       "\n",
       "\\item \n",
       "\\item Dataset statistics                                                             \n",
       "\n",
       "\n",
       "\\item Nodes   875713                                                                 \n",
       "\n",
       "\n",
       "\\item Edges   5105039                                                                \n",
       "\n",
       "\n",
       "\\item Nodes in largest WCC    855802 (0.977)                                         \n",
       "\n",
       "\n",
       "\\item Edges in largest WCC    5066842 (0.993)                                        \n",
       "\n",
       "\n",
       "\\item Nodes in largest SCC    434818 (0.497)                                         \n",
       "\n",
       "\n",
       "\\item Edges in largest SCC    3419124 (0.670)                                        \n",
       "\n",
       "\n",
       "\\item Average clustering coefficient  0.6047                                         \n",
       "\n",
       "\n",
       "\\item Number of triangles     13391903                                               \n",
       "\n",
       "\n",
       "\\item Fraction of closed triangles    0.05523                                        \n",
       "\n",
       "\n",
       "\\item Diameter (longest shortest path)    22                                         \n",
       "\n",
       "\n",
       "\\item 90-percentile effective diameter    8.1                                        \n",
       "\n",
       "\n",
       "\\item \n",
       "\\item Source (citation)                                                              \n",
       "\n",
       "\n",
       "\\item \n",
       "\\item J. Leskovec, K. Lang, A. Dasgupta, M. Mahoney. Community Structure in Large    \n",
       "\n",
       "\n",
       "\\item Networks: Natural Cluster Sizes and the Absence of Large Well-Defined Clusters.\n",
       "\n",
       "\n",
       "\\item arXiv.org:0810.1355, 2008.                                                     \n",
       "\n",
       "\n",
       "\\item \n",
       "\\item Google programming contest, 2002                                               \n",
       "\n",
       "\n",
       "\\item http://www.google.com/programming-contest/                                     \n",
       "\n",
       "\n",
       "\\item \n",
       "\\item Files                                                                          \n",
       "\n",
       "\n",
       "\\item File    Description                                                            \n",
       "\n",
       "\n",
       "\\item web-Google.txt.gz   Webgraph from the Google programming contest, 2002         \n",
       "\n",
       "\\end{itemize}\n",
       "\\rule{\\textwidth}{1pt}\n",
       "916428 916428 5105039\n",
       "\n"
      ],
      "text/markdown": [
       "# SNAP/web-Google\n",
       "\n",
       "###### MatrixMarket matrix coordinate pattern general\n",
       "\n",
       "---\n",
       "\n",
       "  * UF Sparse Matrix Collection, Tim Davis\n",
       "  * http://www.cise.ufl.edu/research/sparse/matrices/SNAP/web-Google\n",
       "  * name: SNAP/web-Google\n",
       "  * [Web graph from Google]\n",
       "  * id: 2301\n",
       "  * date: 2002\n",
       "  * author: Google\n",
       "  * ed: J. Leskovec\n",
       "  * fields: name title A id date author ed kind notes\n",
       "  * kind: directed graph\n",
       "\n",
       "---\n",
       "\n",
       "  * notes:\n",
       "  * Networks from SNAP (Stanford Network Analysis Platform) Network Data Sets,\n",
       "  * Jure Leskovec http://snap.stanford.edu/data/index.html\n",
       "  * email jure at cs.stanford.edu\n",
       "  * \n",
       "  * Google web graph\n",
       "  * \n",
       "  * Dataset information\n",
       "  * \n",
       "  * Nodes represent web pages and directed edges represent hyperlinks between them.\n",
       "  * The data was released in 2002 by Google as a part of Google Programming\n",
       "  * Contest.\n",
       "  * \n",
       "  * Dataset statistics\n",
       "  * Nodes   875713\n",
       "  * Edges   5105039\n",
       "  * Nodes in largest WCC    855802 (0.977)\n",
       "  * Edges in largest WCC    5066842 (0.993)\n",
       "  * Nodes in largest SCC    434818 (0.497)\n",
       "  * Edges in largest SCC    3419124 (0.670)\n",
       "  * Average clustering coefficient  0.6047\n",
       "  * Number of triangles     13391903\n",
       "  * Fraction of closed triangles    0.05523\n",
       "  * Diameter (longest shortest path)    22\n",
       "  * 90-percentile effective diameter    8.1\n",
       "  * \n",
       "  * Source (citation)\n",
       "  * \n",
       "  * J. Leskovec, K. Lang, A. Dasgupta, M. Mahoney. Community Structure in Large\n",
       "  * Networks: Natural Cluster Sizes and the Absence of Large Well-Defined Clusters.\n",
       "  * arXiv.org:0810.1355, 2008.\n",
       "  * \n",
       "  * Google programming contest, 2002\n",
       "  * http://www.google.com/programming-contest/\n",
       "  * \n",
       "  * Files\n",
       "  * File    Description\n",
       "  * web-Google.txt.gz   Webgraph from the Google programming contest, 2002\n",
       "\n",
       "---\n",
       "\n",
       "916428 916428 5105039\n"
      ],
      "text/plain": [
       "\u001b[1m  SNAP/web-Google\u001b[22m\n",
       "\u001b[1m  ≡≡≡≡≡≡≡≡≡≡≡≡≡≡≡≡≡\u001b[22m\n",
       "\n",
       "\u001b[1m  MatrixMarket matrix coordinate pattern general\u001b[22m\n",
       "\n",
       "  ────────────────────────────────────────────────────────────────────────────\n",
       "\n",
       "    •    UF Sparse Matrix Collection, Tim Davis\n",
       "\n",
       "    •    http://www.cise.ufl.edu/research/sparse/matrices/SNAP/web-Google\n",
       "\n",
       "    •    name: SNAP/web-Google\n",
       "\n",
       "    •    [Web graph from Google]\n",
       "\n",
       "    •    id: 2301\n",
       "\n",
       "    •    date: 2002\n",
       "\n",
       "    •    author: Google\n",
       "\n",
       "    •    ed: J. Leskovec\n",
       "\n",
       "    •    fields: name title A id date author ed kind notes\n",
       "\n",
       "    •    kind: directed graph\n",
       "\n",
       "  ────────────────────────────────────────────────────────────────────────────\n",
       "\n",
       "    •    notes:\n",
       "\n",
       "    •    Networks from SNAP (Stanford Network Analysis Platform) Network\n",
       "        Data Sets, \n",
       "\n",
       "    •    Jure Leskovec http://snap.stanford.edu/data/index.html \n",
       "\n",
       "    •    email jure at cs.stanford.edu \n",
       "\n",
       "    •  \n",
       "\n",
       "    •    Google web graph \n",
       "\n",
       "    •  \n",
       "\n",
       "    •    Dataset information \n",
       "\n",
       "    •  \n",
       "\n",
       "    •    Nodes represent web pages and directed edges represent hyperlinks\n",
       "        between them.\n",
       "\n",
       "    •    The data was released in 2002 by Google as a part of Google\n",
       "        Programming \n",
       "\n",
       "    •    Contest. \n",
       "\n",
       "    •  \n",
       "\n",
       "    •    Dataset statistics \n",
       "\n",
       "    •    Nodes 875713 \n",
       "\n",
       "    •    Edges 5105039 \n",
       "\n",
       "    •    Nodes in largest WCC 855802 (0.977) \n",
       "\n",
       "    •    Edges in largest WCC 5066842 (0.993) \n",
       "\n",
       "    •    Nodes in largest SCC 434818 (0.497) \n",
       "\n",
       "    •    Edges in largest SCC 3419124 (0.670) \n",
       "\n",
       "    •    Average clustering coefficient 0.6047 \n",
       "\n",
       "    •    Number of triangles 13391903 \n",
       "\n",
       "    •    Fraction of closed triangles 0.05523 \n",
       "\n",
       "    •    Diameter (longest shortest path) 22 \n",
       "\n",
       "    •    90-percentile effective diameter 8.1 \n",
       "\n",
       "    •  \n",
       "\n",
       "    •    Source (citation) \n",
       "\n",
       "    •  \n",
       "\n",
       "    •    J. Leskovec, K. Lang, A. Dasgupta, M. Mahoney. Community Structure\n",
       "        in Large \n",
       "\n",
       "    •    Networks: Natural Cluster Sizes and the Absence of Large\n",
       "        Well-Defined Clusters.\n",
       "\n",
       "    •    arXiv.org:0810.1355, 2008. \n",
       "\n",
       "    •  \n",
       "\n",
       "    •    Google programming contest, 2002 \n",
       "\n",
       "    •    http://www.google.com/programming-contest/ \n",
       "\n",
       "    •  \n",
       "\n",
       "    •    Files \n",
       "\n",
       "    •    File Description \n",
       "\n",
       "    •    web-Google.txt.gz Webgraph from the Google programming contest,\n",
       "        2002 \n",
       "\n",
       "  ────────────────────────────────────────────────────────────────────────────\n",
       "\n",
       "  916428 916428 5105039"
      ]
     },
     "execution_count": 9,
     "metadata": {},
     "output_type": "execute_result"
    }
   ],
   "source": [
    "using MatrixDepot\n",
    "md = mdopen(\"SNAP/web-Google\")\n",
    "# display documentation for the SNAP/web-Google data\n",
    "mdinfo(md)"
   ]
  },
  {
   "cell_type": "code",
   "execution_count": 10,
   "metadata": {},
   "outputs": [
    {
     "data": {
      "text/plain": [
       "916428×916428 SparseMatrixCSC{Bool,Int64} with 5105039 stored entries:\n",
       "  [11343 ,      1]  =  1\n",
       "  [11928 ,      1]  =  1\n",
       "  [15902 ,      1]  =  1\n",
       "  [29547 ,      1]  =  1\n",
       "  [30282 ,      1]  =  1\n",
       "  [31301 ,      1]  =  1\n",
       "  [38717 ,      1]  =  1\n",
       "  [43930 ,      1]  =  1\n",
       "  [46275 ,      1]  =  1\n",
       "  [48193 ,      1]  =  1\n",
       "  [50823 ,      1]  =  1\n",
       "  [56911 ,      1]  =  1\n",
       "  ⋮\n",
       "  [608625, 916427]  =  1\n",
       "  [618730, 916427]  =  1\n",
       "  [622998, 916427]  =  1\n",
       "  [673046, 916427]  =  1\n",
       "  [716616, 916427]  =  1\n",
       "  [720325, 916427]  =  1\n",
       "  [772226, 916427]  =  1\n",
       "  [785097, 916427]  =  1\n",
       "  [788476, 916427]  =  1\n",
       "  [822938, 916427]  =  1\n",
       "  [833616, 916427]  =  1\n",
       "  [417498, 916428]  =  1\n",
       "  [843845, 916428]  =  1"
      ]
     },
     "execution_count": 10,
     "metadata": {},
     "output_type": "execute_result"
    }
   ],
   "source": [
    "# connectivity matrix\n",
    "MatrixDepot.addmetadata!(md.data)\n",
    "A = md.A"
   ]
  },
  {
   "cell_type": "markdown",
   "metadata": {},
   "source": [
    "Compute summary statistics:\n",
    "* How much memory does `A` take? If converted to a `Matrix{Float64}` (don't do it!), how much memory will it take?  \n",
    "* number of web pages\n",
    "* number of edges (web links). \n",
    "* number of dangling nodes (pages with no out links)\n",
    "* histogram of in-degrees\n",
    "* list the top 20 pages with the largest in-degrees?\n",
    "* histogram of out-degrees\n",
    "* which the top 20 pages with the largest out-degrees?\n",
    "* visualize the sparsity pattern of $\\mathbf{A}$ or a submatrix of $\\mathbf{A}$ say `A[1:10000, 1:10000]`\n",
    "\n",
    "**Hint**: For plots, you can use the [UnicodePlots.jl](https://github.com/Evizero/UnicodePlots.jl) package (`spy`, `histogram`, etc), which is fast for large data. "
   ]
  },
  {
   "cell_type": "markdown",
   "metadata": {},
   "source": [
    "## Q3 Solution\n",
    "* If `A` is converted to a `Matrix{Float64}`, it will take $916428\\times916428\\times8$ byes. As a sparse matrix, `A` takes $5105039\\times 8$ bytes."
   ]
  },
  {
   "cell_type": "code",
   "execution_count": 32,
   "metadata": {},
   "outputs": [
    {
     "name": "stdout",
     "output_type": "stream",
     "text": [
      "pages = 916428\n",
      "edges = 5105039\n",
      "dangling = 176974\n"
     ]
    },
    {
     "data": {
      "text/plain": [
       "176974"
      ]
     },
     "execution_count": 32,
     "metadata": {},
     "output_type": "execute_result"
    }
   ],
   "source": [
    "using BenchmarkTools, LinearAlgebra, SparseArrays, Revise\n",
    "@benchmark A\n",
    "\n",
    "#Number of pages\n",
    "pages = size(A)[1]\n",
    "@show pages\n",
    "\n",
    "#Number of edges (web links)\n",
    "edges = sum(A)\n",
    "@show edges\n",
    "\n",
    "#Number of dangling nodes (pages with no out links)\n",
    "dangling= sum(sum(A, dims = 2) .== 0)\n",
    "@show dangling"
   ]
  },
  {
   "cell_type": "code",
   "execution_count": 42,
   "metadata": {},
   "outputs": [
    {
     "name": "stdout",
     "output_type": "stream",
     "text": [
      "top_20_in = [537040, 597622, 504141, 751385, 32164, 885606, 163076, 819224, 605857, 828964, 551830, 41910, 558792, 459075, 407611, 213433, 765335, 384667, 173977, 687326]\n",
      "top_20_out = [506743, 203749, 305230, 768092, 808644, 412411, 600480, 376429, 156951, 885729, 667585, 685696, 282141, 598189, 579315, 411594, 321092, 838279, 302734, 915274]\n"
     ]
    },
    {
     "data": {
      "text/plain": [
       "20-element Array{Int64,1}:\n",
       " 506743\n",
       " 203749\n",
       " 305230\n",
       " 768092\n",
       " 808644\n",
       " 412411\n",
       " 600480\n",
       " 376429\n",
       " 156951\n",
       " 885729\n",
       " 667585\n",
       " 685696\n",
       " 282141\n",
       " 598189\n",
       " 579315\n",
       " 411594\n",
       " 321092\n",
       " 838279\n",
       " 302734\n",
       " 915274"
      ]
     },
     "execution_count": 42,
     "metadata": {},
     "output_type": "execute_result"
    }
   ],
   "source": [
    "degrees_in = vec(sum(A, dims = 1))\n",
    "degrees_out = vec(sum(A, dims = 2))\n",
    "top_20_in = sortperm(degrees_in, rev = true)[1:20]\n",
    "top_20_out = sortperm(degrees_out, rev = true)[1:20]\n",
    "@show top_20_in\n",
    "@show top_20_out"
   ]
  },
  {
   "cell_type": "code",
   "execution_count": 44,
   "metadata": {},
   "outputs": [
    {
     "data": {
      "text/plain": [
       "\u001b[90m                    ┌                                        ┐\u001b[39m \n",
       "   \u001b[0m\u001b[90m[\u001b[0m   0.0\u001b[90m, \u001b[0m 500.0\u001b[90m)\u001b[0m\u001b[90m ┤\u001b[39m\u001b[32m▇▇▇▇▇▇▇▇▇▇▇▇▇▇▇▇▇▇▇▇▇▇▇▇▇▇▇▇▇▇▇▇\u001b[39m\u001b[0m 916114 \u001b[90m \u001b[39m \n",
       "   \u001b[0m\u001b[90m[\u001b[0m 500.0\u001b[90m, \u001b[0m1000.0\u001b[90m)\u001b[0m\u001b[90m ┤\u001b[39m\u001b[0m 180                                    \u001b[90m \u001b[39m \n",
       "   \u001b[0m\u001b[90m[\u001b[0m1000.0\u001b[90m, \u001b[0m1500.0\u001b[90m)\u001b[0m\u001b[90m ┤\u001b[39m\u001b[0m 32                                     \u001b[90m \u001b[39m \n",
       "   \u001b[0m\u001b[90m[\u001b[0m1500.0\u001b[90m, \u001b[0m2000.0\u001b[90m)\u001b[0m\u001b[90m ┤\u001b[39m\u001b[0m 20                                     \u001b[90m \u001b[39m \n",
       "   \u001b[0m\u001b[90m[\u001b[0m2000.0\u001b[90m, \u001b[0m2500.0\u001b[90m)\u001b[0m\u001b[90m ┤\u001b[39m\u001b[0m 16                                     \u001b[90m \u001b[39m \n",
       "   \u001b[0m\u001b[90m[\u001b[0m2500.0\u001b[90m, \u001b[0m3000.0\u001b[90m)\u001b[0m\u001b[90m ┤\u001b[39m\u001b[0m 20                                     \u001b[90m \u001b[39m \n",
       "   \u001b[0m\u001b[90m[\u001b[0m3000.0\u001b[90m, \u001b[0m3500.0\u001b[90m)\u001b[0m\u001b[90m ┤\u001b[39m\u001b[0m 18                                     \u001b[90m \u001b[39m \n",
       "   \u001b[0m\u001b[90m[\u001b[0m3500.0\u001b[90m, \u001b[0m4000.0\u001b[90m)\u001b[0m\u001b[90m ┤\u001b[39m\u001b[0m 10                                     \u001b[90m \u001b[39m \n",
       "   \u001b[0m\u001b[90m[\u001b[0m4000.0\u001b[90m, \u001b[0m4500.0\u001b[90m)\u001b[0m\u001b[90m ┤\u001b[39m\u001b[0m 9                                      \u001b[90m \u001b[39m \n",
       "   \u001b[0m\u001b[90m[\u001b[0m4500.0\u001b[90m, \u001b[0m5000.0\u001b[90m)\u001b[0m\u001b[90m ┤\u001b[39m\u001b[0m 4                                      \u001b[90m \u001b[39m \n",
       "   \u001b[0m\u001b[90m[\u001b[0m5000.0\u001b[90m, \u001b[0m5500.0\u001b[90m)\u001b[0m\u001b[90m ┤\u001b[39m\u001b[0m 4                                      \u001b[90m \u001b[39m \n",
       "   \u001b[0m\u001b[90m[\u001b[0m5500.0\u001b[90m, \u001b[0m6000.0\u001b[90m)\u001b[0m\u001b[90m ┤\u001b[39m\u001b[0m 0                                      \u001b[90m \u001b[39m \n",
       "   \u001b[0m\u001b[90m[\u001b[0m6000.0\u001b[90m, \u001b[0m6500.0\u001b[90m)\u001b[0m\u001b[90m ┤\u001b[39m\u001b[0m 1                                      \u001b[90m \u001b[39m \n",
       "\u001b[90m                    └                                        ┘\u001b[39m \n",
       "\u001b[0m                                    Frequency"
      ]
     },
     "execution_count": 44,
     "metadata": {},
     "output_type": "execute_result"
    }
   ],
   "source": [
    "histogram(degrees_in)"
   ]
  },
  {
   "cell_type": "code",
   "execution_count": 45,
   "metadata": {},
   "outputs": [
    {
     "data": {
      "text/plain": [
       "\u001b[90m                  ┌                                        ┐\u001b[39m \n",
       "   \u001b[0m\u001b[90m[\u001b[0m  0.0\u001b[90m, \u001b[0m 20.0\u001b[90m)\u001b[0m\u001b[90m ┤\u001b[39m\u001b[32m▇▇▇▇▇▇▇▇▇▇▇▇▇▇▇▇▇▇▇▇▇▇▇▇▇▇▇▇▇▇▇▇\u001b[39m\u001b[0m 891798 \u001b[90m \u001b[39m \n",
       "   \u001b[0m\u001b[90m[\u001b[0m 20.0\u001b[90m, \u001b[0m 40.0\u001b[90m)\u001b[0m\u001b[90m ┤\u001b[39m\u001b[32m▇\u001b[39m\u001b[0m 22628                                 \u001b[90m \u001b[39m \n",
       "   \u001b[0m\u001b[90m[\u001b[0m 40.0\u001b[90m, \u001b[0m 60.0\u001b[90m)\u001b[0m\u001b[90m ┤\u001b[39m\u001b[0m 1329                                   \u001b[90m \u001b[39m \n",
       "   \u001b[0m\u001b[90m[\u001b[0m 60.0\u001b[90m, \u001b[0m 80.0\u001b[90m)\u001b[0m\u001b[90m ┤\u001b[39m\u001b[0m 371                                    \u001b[90m \u001b[39m \n",
       "   \u001b[0m\u001b[90m[\u001b[0m 80.0\u001b[90m, \u001b[0m100.0\u001b[90m)\u001b[0m\u001b[90m ┤\u001b[39m\u001b[0m 124                                    \u001b[90m \u001b[39m \n",
       "   \u001b[0m\u001b[90m[\u001b[0m100.0\u001b[90m, \u001b[0m120.0\u001b[90m)\u001b[0m\u001b[90m ┤\u001b[39m\u001b[0m 86                                     \u001b[90m \u001b[39m \n",
       "   \u001b[0m\u001b[90m[\u001b[0m120.0\u001b[90m, \u001b[0m140.0\u001b[90m)\u001b[0m\u001b[90m ┤\u001b[39m\u001b[0m 29                                     \u001b[90m \u001b[39m \n",
       "   \u001b[0m\u001b[90m[\u001b[0m140.0\u001b[90m, \u001b[0m160.0\u001b[90m)\u001b[0m\u001b[90m ┤\u001b[39m\u001b[0m 15                                     \u001b[90m \u001b[39m \n",
       "   \u001b[0m\u001b[90m[\u001b[0m160.0\u001b[90m, \u001b[0m180.0\u001b[90m)\u001b[0m\u001b[90m ┤\u001b[39m\u001b[0m 15                                     \u001b[90m \u001b[39m \n",
       "   \u001b[0m\u001b[90m[\u001b[0m180.0\u001b[90m, \u001b[0m200.0\u001b[90m)\u001b[0m\u001b[90m ┤\u001b[39m\u001b[0m 8                                      \u001b[90m \u001b[39m \n",
       "   \u001b[0m\u001b[90m[\u001b[0m200.0\u001b[90m, \u001b[0m220.0\u001b[90m)\u001b[0m\u001b[90m ┤\u001b[39m\u001b[0m 7                                      \u001b[90m \u001b[39m \n",
       "   \u001b[0m\u001b[90m[\u001b[0m220.0\u001b[90m, \u001b[0m240.0\u001b[90m)\u001b[0m\u001b[90m ┤\u001b[39m\u001b[0m 3                                      \u001b[90m \u001b[39m \n",
       "   \u001b[0m\u001b[90m[\u001b[0m240.0\u001b[90m, \u001b[0m260.0\u001b[90m)\u001b[0m\u001b[90m ┤\u001b[39m\u001b[0m 8                                      \u001b[90m \u001b[39m \n",
       "   \u001b[0m\u001b[90m[\u001b[0m260.0\u001b[90m, \u001b[0m280.0\u001b[90m)\u001b[0m\u001b[90m ┤\u001b[39m\u001b[0m 3                                      \u001b[90m \u001b[39m \n",
       "   \u001b[0m\u001b[90m[\u001b[0m280.0\u001b[90m, \u001b[0m300.0\u001b[90m)\u001b[0m\u001b[90m ┤\u001b[39m\u001b[0m 0                                      \u001b[90m \u001b[39m \n",
       "   \u001b[0m\u001b[90m[\u001b[0m300.0\u001b[90m, \u001b[0m320.0\u001b[90m)\u001b[0m\u001b[90m ┤\u001b[39m\u001b[0m 0                                      \u001b[90m \u001b[39m \n",
       "   \u001b[0m\u001b[90m[\u001b[0m320.0\u001b[90m, \u001b[0m340.0\u001b[90m)\u001b[0m\u001b[90m ┤\u001b[39m\u001b[0m 1                                      \u001b[90m \u001b[39m \n",
       "   \u001b[0m\u001b[90m[\u001b[0m340.0\u001b[90m, \u001b[0m360.0\u001b[90m)\u001b[0m\u001b[90m ┤\u001b[39m\u001b[0m 0                                      \u001b[90m \u001b[39m \n",
       "   \u001b[0m\u001b[90m[\u001b[0m360.0\u001b[90m, \u001b[0m380.0\u001b[90m)\u001b[0m\u001b[90m ┤\u001b[39m\u001b[0m 2                                      \u001b[90m \u001b[39m \n",
       "   \u001b[0m\u001b[90m[\u001b[0m380.0\u001b[90m, \u001b[0m400.0\u001b[90m)\u001b[0m\u001b[90m ┤\u001b[39m\u001b[0m 0                                      \u001b[90m \u001b[39m \n",
       "   \u001b[0m\u001b[90m[\u001b[0m400.0\u001b[90m, \u001b[0m420.0\u001b[90m)\u001b[0m\u001b[90m ┤\u001b[39m\u001b[0m 0                                      \u001b[90m \u001b[39m \n",
       "   \u001b[0m\u001b[90m[\u001b[0m420.0\u001b[90m, \u001b[0m440.0\u001b[90m)\u001b[0m\u001b[90m ┤\u001b[39m\u001b[0m 0                                      \u001b[90m \u001b[39m \n",
       "   \u001b[0m\u001b[90m[\u001b[0m440.0\u001b[90m, \u001b[0m460.0\u001b[90m)\u001b[0m\u001b[90m ┤\u001b[39m\u001b[0m 1                                      \u001b[90m \u001b[39m \n",
       "\u001b[90m                  └                                        ┘\u001b[39m \n",
       "\u001b[0m                                  Frequency"
      ]
     },
     "execution_count": 45,
     "metadata": {},
     "output_type": "execute_result"
    }
   ],
   "source": [
    "histogram(degrees_out)"
   ]
  },
  {
   "cell_type": "code",
   "execution_count": 13,
   "metadata": {},
   "outputs": [
    {
     "data": {
      "text/plain": [
       "\u001b[1m                      Sparsity Pattern\u001b[22m\n",
       "\u001b[90m         ┌──────────────────────────────────────────┐\u001b[39m    \n",
       "       \u001b[90m1\u001b[39m\u001b[90m │\u001b[39m\u001b[0m⠀\u001b[0m⠀\u001b[0m⠀\u001b[0m⠀\u001b[0m⠀\u001b[0m⠀\u001b[0m⠀\u001b[31m⠂\u001b[39m\u001b[0m⠀\u001b[0m⠀\u001b[0m⠀\u001b[0m⠀\u001b[31m⢀\u001b[39m\u001b[31m⢂\u001b[39m\u001b[31m⡂\u001b[39m\u001b[31m⠐\u001b[39m\u001b[0m⠀\u001b[0m⠀\u001b[0m⠀\u001b[31m⠠\u001b[39m\u001b[0m⠀\u001b[0m⠀\u001b[0m⠀\u001b[31m⠔\u001b[39m\u001b[31m⠄\u001b[39m\u001b[0m⠀\u001b[31m⠈\u001b[39m\u001b[31m⢀\u001b[39m\u001b[0m⠀\u001b[0m⠀\u001b[31m⠉\u001b[39m\u001b[0m⠀\u001b[0m⠀\u001b[31m⠁\u001b[39m\u001b[0m⠀\u001b[0m⠀\u001b[31m⠐\u001b[39m\u001b[0m⠀\u001b[31m⠄\u001b[39m\u001b[0m⠀\u001b[31m⠐\u001b[39m\u001b[0m⠀\u001b[90m│\u001b[39m \u001b[31m> 0\u001b[39m\n",
       "        \u001b[90m │\u001b[39m\u001b[0m⠀\u001b[0m⠀\u001b[0m⠀\u001b[0m⠀\u001b[0m⠀\u001b[31m⠂\u001b[39m\u001b[31m⡂\u001b[39m\u001b[0m⠀\u001b[31m⠄\u001b[39m\u001b[31m⠄\u001b[39m\u001b[31m⠈\u001b[39m\u001b[31m⠈\u001b[39m\u001b[31m⡔\u001b[39m\u001b[0m⠀\u001b[0m⠀\u001b[31m⠁\u001b[39m\u001b[31m⠂\u001b[39m\u001b[0m⠀\u001b[0m⠀\u001b[0m⠀\u001b[0m⠀\u001b[31m⠠\u001b[39m\u001b[31m⠁\u001b[39m\u001b[31m⠒\u001b[39m\u001b[31m⠁\u001b[39m\u001b[0m⠀\u001b[31m⠄\u001b[39m\u001b[0m⠀\u001b[31m⠐\u001b[39m\u001b[0m⠀\u001b[31m⠈\u001b[39m\u001b[0m⠀\u001b[0m⠀\u001b[31m⡐\u001b[39m\u001b[0m⠀\u001b[0m⠀\u001b[31m⠠\u001b[39m\u001b[0m⠀\u001b[31m⡀\u001b[39m\u001b[0m⠀\u001b[31m⠉\u001b[39m\u001b[0m⠀\u001b[90m│\u001b[39m \u001b[34m< 0\u001b[39m\n",
       "        \u001b[90m │\u001b[39m\u001b[0m⠀\u001b[31m⠐\u001b[39m\u001b[31m⠠\u001b[39m\u001b[0m⠀\u001b[0m⠀\u001b[31m⠁\u001b[39m\u001b[31m⢐\u001b[39m\u001b[31m⠄\u001b[39m\u001b[0m⠀\u001b[31m⠢\u001b[39m\u001b[31m⠠\u001b[39m\u001b[0m⠀\u001b[0m⠀\u001b[31m⡀\u001b[39m\u001b[31m⠈\u001b[39m\u001b[0m⠀\u001b[31m⠋\u001b[39m\u001b[0m⠀\u001b[0m⠀\u001b[0m⠀\u001b[0m⠀\u001b[0m⠀\u001b[31m⠂\u001b[39m\u001b[31m⡀\u001b[39m\u001b[0m⠀\u001b[31m⠈\u001b[39m\u001b[31m⠄\u001b[39m\u001b[0m⠀\u001b[31m⠄\u001b[39m\u001b[31m⠁\u001b[39m\u001b[31m⠈\u001b[39m\u001b[0m⠀\u001b[31m⠠\u001b[39m\u001b[0m⠀\u001b[31m⠰\u001b[39m\u001b[0m⠀\u001b[0m⠀\u001b[0m⠀\u001b[0m⠀\u001b[31m⢀\u001b[39m\u001b[31m⠆\u001b[39m\u001b[0m⠀\u001b[90m│\u001b[39m    \n",
       "        \u001b[90m │\u001b[39m\u001b[0m⠀\u001b[31m⠈\u001b[39m\u001b[31m⠠\u001b[39m\u001b[31m⠂\u001b[39m\u001b[0m⠀\u001b[31m⠈\u001b[39m\u001b[0m⠀\u001b[31m⡠\u001b[39m\u001b[31m⠐\u001b[39m\u001b[0m⠀\u001b[0m⠀\u001b[0m⠀\u001b[0m⠀\u001b[0m⠀\u001b[0m⠀\u001b[0m⠀\u001b[0m⠀\u001b[0m⠀\u001b[0m⠀\u001b[31m⡀\u001b[39m\u001b[31m⠈\u001b[39m\u001b[31m⠄\u001b[39m\u001b[31m⠁\u001b[39m\u001b[31m⢀\u001b[39m\u001b[31m⡀\u001b[39m\u001b[31m⠐\u001b[39m\u001b[31m⠄\u001b[39m\u001b[31m⠄\u001b[39m\u001b[0m⠀\u001b[0m⠀\u001b[31m⢀\u001b[39m\u001b[0m⠀\u001b[31m⠈\u001b[39m\u001b[31m⠂\u001b[39m\u001b[31m⢠\u001b[39m\u001b[0m⠀\u001b[31m⠢\u001b[39m\u001b[31m⠐\u001b[39m\u001b[0m⠀\u001b[0m⠀\u001b[0m⠀\u001b[31m⡀\u001b[39m\u001b[90m│\u001b[39m    \n",
       "        \u001b[90m │\u001b[39m\u001b[0m⠀\u001b[0m⠀\u001b[31m⠐\u001b[39m\u001b[31m⡁\u001b[39m\u001b[0m⠀\u001b[31m⡀\u001b[39m\u001b[0m⠀\u001b[0m⠀\u001b[31m⠠\u001b[39m\u001b[0m⠀\u001b[31m⠁\u001b[39m\u001b[0m⠀\u001b[0m⠀\u001b[0m⠀\u001b[31m⡄\u001b[39m\u001b[0m⠀\u001b[31m⠈\u001b[39m\u001b[31m⠁\u001b[39m\u001b[0m⠀\u001b[0m⠀\u001b[0m⠀\u001b[0m⠀\u001b[31m⠠\u001b[39m\u001b[31m⠂\u001b[39m\u001b[0m⠀\u001b[0m⠀\u001b[0m⠀\u001b[0m⠀\u001b[0m⠀\u001b[31m⠂\u001b[39m\u001b[31m⠪\u001b[39m\u001b[0m⠀\u001b[0m⠀\u001b[31m⠂\u001b[39m\u001b[0m⠀\u001b[0m⠀\u001b[0m⠀\u001b[31m⠄\u001b[39m\u001b[31m⢀\u001b[39m\u001b[0m⠀\u001b[31m⠁\u001b[39m\u001b[0m⠀\u001b[90m│\u001b[39m    \n",
       "        \u001b[90m │\u001b[39m\u001b[31m⠂\u001b[39m\u001b[31m⢀\u001b[39m\u001b[0m⠀\u001b[31m⠁\u001b[39m\u001b[0m⠀\u001b[0m⠀\u001b[31m⡀\u001b[39m\u001b[31m⡉\u001b[39m\u001b[0m⠀\u001b[0m⠀\u001b[31m⠠\u001b[39m\u001b[31m⠂\u001b[39m\u001b[31m⠐\u001b[39m\u001b[31m⢀\u001b[39m\u001b[31m⠄\u001b[39m\u001b[31m⠁\u001b[39m\u001b[31m⠐\u001b[39m\u001b[0m⠀\u001b[31m⠈\u001b[39m\u001b[0m⠀\u001b[0m⠀\u001b[0m⠀\u001b[0m⠀\u001b[0m⠀\u001b[31m⡀\u001b[39m\u001b[31m⠐\u001b[39m\u001b[31m⠁\u001b[39m\u001b[31m⡠\u001b[39m\u001b[0m⠀\u001b[31m⠂\u001b[39m\u001b[31m⠚\u001b[39m\u001b[0m⠀\u001b[31m⠁\u001b[39m\u001b[0m⠀\u001b[31m⠐\u001b[39m\u001b[31m⢀\u001b[39m\u001b[31m⠆\u001b[39m\u001b[0m⠀\u001b[31m⠈\u001b[39m\u001b[31m⠄\u001b[39m\u001b[31m⢀\u001b[39m\u001b[31m⠂\u001b[39m\u001b[90m│\u001b[39m    \n",
       "        \u001b[90m │\u001b[39m\u001b[0m⠀\u001b[0m⠀\u001b[0m⠀\u001b[31m⠁\u001b[39m\u001b[0m⠀\u001b[31m⡄\u001b[39m\u001b[0m⠀\u001b[0m⠀\u001b[0m⠀\u001b[0m⠀\u001b[31m⠒\u001b[39m\u001b[0m⠀\u001b[31m⢄\u001b[39m\u001b[31m⠄\u001b[39m\u001b[31m⢂\u001b[39m\u001b[0m⠀\u001b[31m⠂\u001b[39m\u001b[0m⠀\u001b[0m⠀\u001b[31m⠄\u001b[39m\u001b[0m⠀\u001b[31m⢀\u001b[39m\u001b[0m⠀\u001b[31m⠣\u001b[39m\u001b[0m⠀\u001b[31m⢀\u001b[39m\u001b[0m⠀\u001b[0m⠀\u001b[0m⠀\u001b[0m⠀\u001b[31m⠠\u001b[39m\u001b[31m⡀\u001b[39m\u001b[0m⠀\u001b[0m⠀\u001b[31m⢠\u001b[39m\u001b[31m⠄\u001b[39m\u001b[0m⠀\u001b[31m⡀\u001b[39m\u001b[0m⠀\u001b[31m⠂\u001b[39m\u001b[31m⠂\u001b[39m\u001b[0m⠀\u001b[90m│\u001b[39m    \n",
       "        \u001b[90m │\u001b[39m\u001b[31m⢀\u001b[39m\u001b[31m⠈\u001b[39m\u001b[0m⠀\u001b[0m⠀\u001b[31m⠂\u001b[39m\u001b[0m⠀\u001b[0m⠀\u001b[31m⠁\u001b[39m\u001b[31m⢠\u001b[39m\u001b[31m⠈\u001b[39m\u001b[31m⠄\u001b[39m\u001b[31m⠁\u001b[39m\u001b[0m⠀\u001b[0m⠀\u001b[31m⡈\u001b[39m\u001b[31m⠈\u001b[39m\u001b[31m⠠\u001b[39m\u001b[0m⠀\u001b[31m⢀\u001b[39m\u001b[31m⡦\u001b[39m\u001b[0m⠀\u001b[0m⠀\u001b[31m⠅\u001b[39m\u001b[31m⠐\u001b[39m\u001b[0m⠀\u001b[31m⠨\u001b[39m\u001b[31m⠁\u001b[39m\u001b[31m⠨\u001b[39m\u001b[0m⠀\u001b[31m⠄\u001b[39m\u001b[31m⠠\u001b[39m\u001b[31m⢀\u001b[39m\u001b[0m⠀\u001b[31m⠐\u001b[39m\u001b[31m⢐\u001b[39m\u001b[0m⠀\u001b[0m⠀\u001b[31m⠉\u001b[39m\u001b[0m⠀\u001b[0m⠀\u001b[31m⠠\u001b[39m\u001b[31m⠉\u001b[39m\u001b[90m│\u001b[39m    \n",
       "        \u001b[90m │\u001b[39m\u001b[0m⠀\u001b[0m⠀\u001b[31m⠨\u001b[39m\u001b[0m⠀\u001b[31m⠋\u001b[39m\u001b[0m⠀\u001b[31m⠄\u001b[39m\u001b[0m⠀\u001b[31m⠂\u001b[39m\u001b[0m⠀\u001b[31m⠈\u001b[39m\u001b[0m⠀\u001b[0m⠀\u001b[0m⠀\u001b[31m⠈\u001b[39m\u001b[0m⠀\u001b[0m⠀\u001b[0m⠀\u001b[0m⠀\u001b[31m⡑\u001b[39m\u001b[0m⠀\u001b[31m⢀\u001b[39m\u001b[31m⠈\u001b[39m\u001b[31m⠈\u001b[39m\u001b[0m⠀\u001b[0m⠀\u001b[0m⠀\u001b[31m⠈\u001b[39m\u001b[0m⠀\u001b[31m⠂\u001b[39m\u001b[31m⠐\u001b[39m\u001b[31m⠼\u001b[39m\u001b[0m⠀\u001b[31m⠠\u001b[39m\u001b[0m⠀\u001b[0m⠀\u001b[31m⡈\u001b[39m\u001b[31m⠁\u001b[39m\u001b[0m⠀\u001b[0m⠀\u001b[31m⠡\u001b[39m\u001b[31m⠄\u001b[39m\u001b[90m│\u001b[39m    \n",
       "        \u001b[90m │\u001b[39m\u001b[31m⠠\u001b[39m\u001b[31m⡁\u001b[39m\u001b[0m⠀\u001b[0m⠀\u001b[0m⠀\u001b[0m⠀\u001b[0m⠀\u001b[0m⠀\u001b[0m⠀\u001b[0m⠀\u001b[31m⠂\u001b[39m\u001b[31m⢀\u001b[39m\u001b[0m⠀\u001b[0m⠀\u001b[0m⠀\u001b[31m⡄\u001b[39m\u001b[0m⠀\u001b[0m⠀\u001b[0m⠀\u001b[31m⠤\u001b[39m\u001b[0m⠀\u001b[0m⠀\u001b[31m⠁\u001b[39m\u001b[0m⠀\u001b[31m⡂\u001b[39m\u001b[0m⠀\u001b[0m⠀\u001b[0m⠀\u001b[31m⠄\u001b[39m\u001b[0m⠀\u001b[31m⢈\u001b[39m\u001b[0m⠀\u001b[31m⢔\u001b[39m\u001b[31m⡊\u001b[39m\u001b[31m⣨\u001b[39m\u001b[31m⠈\u001b[39m\u001b[31m⠂\u001b[39m\u001b[0m⠀\u001b[31m⠄\u001b[39m\u001b[31m⢀\u001b[39m\u001b[0m⠀\u001b[0m⠀\u001b[90m│\u001b[39m    \n",
       "        \u001b[90m │\u001b[39m\u001b[0m⠀\u001b[31m⠂\u001b[39m\u001b[0m⠀\u001b[31m⠈\u001b[39m\u001b[0m⠀\u001b[0m⠀\u001b[0m⠀\u001b[0m⠀\u001b[0m⠀\u001b[0m⠀\u001b[31m⠈\u001b[39m\u001b[0m⠀\u001b[31m⡀\u001b[39m\u001b[0m⠀\u001b[31m⠂\u001b[39m\u001b[31m⠠\u001b[39m\u001b[31m⠐\u001b[39m\u001b[0m⠀\u001b[31m⠄\u001b[39m\u001b[0m⠀\u001b[0m⠀\u001b[0m⠀\u001b[0m⠀\u001b[0m⠀\u001b[0m⠀\u001b[31m⠤\u001b[39m\u001b[0m⠀\u001b[0m⠀\u001b[0m⠀\u001b[31m⠠\u001b[39m\u001b[31m⠘\u001b[39m\u001b[31m⠐\u001b[39m\u001b[0m⠀\u001b[31m⠄\u001b[39m\u001b[31m⢘\u001b[39m\u001b[0m⠀\u001b[0m⠀\u001b[31m⢐\u001b[39m\u001b[31m⠄\u001b[39m\u001b[0m⠀\u001b[31m⠁\u001b[39m\u001b[0m⠀\u001b[90m│\u001b[39m    \n",
       "        \u001b[90m │\u001b[39m\u001b[31m⢀\u001b[39m\u001b[31m⠄\u001b[39m\u001b[31m⢠\u001b[39m\u001b[31m⠄\u001b[39m\u001b[31m⡊\u001b[39m\u001b[31m⠂\u001b[39m\u001b[31m⠢\u001b[39m\u001b[31m⢀\u001b[39m\u001b[0m⠀\u001b[0m⠀\u001b[0m⠀\u001b[0m⠀\u001b[31m⠄\u001b[39m\u001b[31m⡀\u001b[39m\u001b[31m⡑\u001b[39m\u001b[0m⠀\u001b[31m⡐\u001b[39m\u001b[0m⠀\u001b[31m⠁\u001b[39m\u001b[31m⡂\u001b[39m\u001b[0m⠀\u001b[0m⠀\u001b[0m⠀\u001b[31m⠰\u001b[39m\u001b[31m⠂\u001b[39m\u001b[31m⢠\u001b[39m\u001b[31m⠄\u001b[39m\u001b[31m⠈\u001b[39m\u001b[0m⠀\u001b[31m⠈\u001b[39m\u001b[31m⠐\u001b[39m\u001b[0m⠀\u001b[0m⠀\u001b[0m⠀\u001b[31m⠉\u001b[39m\u001b[0m⠀\u001b[0m⠀\u001b[31m⡀\u001b[39m\u001b[0m⠀\u001b[0m⠀\u001b[31m⠃\u001b[39m\u001b[0m⠀\u001b[90m│\u001b[39m    \n",
       "        \u001b[90m │\u001b[39m\u001b[0m⠀\u001b[0m⠀\u001b[31m⠅\u001b[39m\u001b[0m⠀\u001b[31m⡁\u001b[39m\u001b[0m⠀\u001b[0m⠀\u001b[0m⠀\u001b[0m⠀\u001b[0m⠀\u001b[31m⢁\u001b[39m\u001b[31m⢀\u001b[39m\u001b[0m⠀\u001b[31m⡀\u001b[39m\u001b[31m⡀\u001b[39m\u001b[31m⡐\u001b[39m\u001b[0m⠀\u001b[0m⠀\u001b[31m⠈\u001b[39m\u001b[31m⠈\u001b[39m\u001b[31m⠔\u001b[39m\u001b[31m⠄\u001b[39m\u001b[0m⠀\u001b[0m⠀\u001b[31m⢀\u001b[39m\u001b[0m⠀\u001b[0m⠀\u001b[0m⠀\u001b[0m⠀\u001b[0m⠀\u001b[0m⠀\u001b[0m⠀\u001b[0m⠀\u001b[31m⠄\u001b[39m\u001b[31m⢉\u001b[39m\u001b[31m⠠\u001b[39m\u001b[31m⠁\u001b[39m\u001b[0m⠀\u001b[31m⠁\u001b[39m\u001b[0m⠀\u001b[0m⠀\u001b[0m⠀\u001b[90m│\u001b[39m    \n",
       "        \u001b[90m │\u001b[39m\u001b[31m⠊\u001b[39m\u001b[31m⢈\u001b[39m\u001b[0m⠀\u001b[31m⠁\u001b[39m\u001b[0m⠀\u001b[0m⠀\u001b[0m⠀\u001b[31m⠅\u001b[39m\u001b[0m⠀\u001b[31m⠂\u001b[39m\u001b[0m⠀\u001b[31m⡀\u001b[39m\u001b[0m⠀\u001b[0m⠀\u001b[0m⠀\u001b[0m⠀\u001b[31m⡀\u001b[39m\u001b[0m⠀\u001b[0m⠀\u001b[31m⠐\u001b[39m\u001b[31m⠄\u001b[39m\u001b[31m⠁\u001b[39m\u001b[31m⠠\u001b[39m\u001b[0m⠀\u001b[31m⠐\u001b[39m\u001b[31m⠈\u001b[39m\u001b[0m⠀\u001b[0m⠀\u001b[0m⠀\u001b[31m⡀\u001b[39m\u001b[31m⢠\u001b[39m\u001b[0m⠀\u001b[0m⠀\u001b[0m⠀\u001b[31m⢰\u001b[39m\u001b[0m⠀\u001b[0m⠀\u001b[0m⠀\u001b[31m⢀\u001b[39m\u001b[0m⠀\u001b[31m⠠\u001b[39m\u001b[31m⠂\u001b[39m\u001b[90m│\u001b[39m    \n",
       "        \u001b[90m │\u001b[39m\u001b[31m⠈\u001b[39m\u001b[0m⠀\u001b[0m⠀\u001b[31m⠈\u001b[39m\u001b[31m⠄\u001b[39m\u001b[0m⠀\u001b[0m⠀\u001b[31m⠄\u001b[39m\u001b[31m⠐\u001b[39m\u001b[0m⠀\u001b[31m⠠\u001b[39m\u001b[31m⠁\u001b[39m\u001b[31m⠁\u001b[39m\u001b[0m⠀\u001b[31m⡂\u001b[39m\u001b[0m⠀\u001b[31m⠠\u001b[39m\u001b[31m⠄\u001b[39m\u001b[31m⠌\u001b[39m\u001b[31m⠅\u001b[39m\u001b[31m⣀\u001b[39m\u001b[0m⠀\u001b[0m⠀\u001b[31m⢀\u001b[39m\u001b[0m⠀\u001b[31m⠠\u001b[39m\u001b[0m⠀\u001b[31m⠠\u001b[39m\u001b[31m⠠\u001b[39m\u001b[0m⠀\u001b[31m⠲\u001b[39m\u001b[31m⢂\u001b[39m\u001b[0m⠀\u001b[31m⠰\u001b[39m\u001b[31m⡄\u001b[39m\u001b[0m⠀\u001b[31m⢀\u001b[39m\u001b[31m⠬\u001b[39m\u001b[31m⠈\u001b[39m\u001b[0m⠀\u001b[0m⠀\u001b[0m⠀\u001b[90m│\u001b[39m    \n",
       "        \u001b[90m │\u001b[39m\u001b[31m⠈\u001b[39m\u001b[0m⠀\u001b[0m⠀\u001b[31m⠄\u001b[39m\u001b[0m⠀\u001b[0m⠀\u001b[31m⡀\u001b[39m\u001b[31m⠈\u001b[39m\u001b[0m⠀\u001b[0m⠀\u001b[31m⠙\u001b[39m\u001b[0m⠀\u001b[0m⠀\u001b[0m⠀\u001b[31m⢀\u001b[39m\u001b[31m⢀\u001b[39m\u001b[31m⠂\u001b[39m\u001b[0m⠀\u001b[0m⠀\u001b[31m⡄\u001b[39m\u001b[31m⢀\u001b[39m\u001b[0m⠀\u001b[31m⠠\u001b[39m\u001b[0m⠀\u001b[31m⠂\u001b[39m\u001b[0m⠀\u001b[0m⠀\u001b[31m⠐\u001b[39m\u001b[0m⠀\u001b[0m⠀\u001b[31m⠸\u001b[39m\u001b[0m⠀\u001b[0m⠀\u001b[0m⠀\u001b[31m⠈\u001b[39m\u001b[31m⠠\u001b[39m\u001b[0m⠀\u001b[31m⠠\u001b[39m\u001b[31m⠁\u001b[39m\u001b[0m⠀\u001b[31m⠂\u001b[39m\u001b[0m⠀\u001b[90m│\u001b[39m    \n",
       "        \u001b[90m │\u001b[39m\u001b[31m⠄\u001b[39m\u001b[0m⠀\u001b[0m⠀\u001b[0m⠀\u001b[31m⠄\u001b[39m\u001b[31m⠂\u001b[39m\u001b[31m⠂\u001b[39m\u001b[0m⠀\u001b[0m⠀\u001b[0m⠀\u001b[31m⠡\u001b[39m\u001b[31m⠁\u001b[39m\u001b[0m⠀\u001b[31m⢉\u001b[39m\u001b[31m⠄\u001b[39m\u001b[0m⠀\u001b[0m⠀\u001b[0m⠀\u001b[31m⡐\u001b[39m\u001b[31m⠑\u001b[39m\u001b[31m⠂\u001b[39m\u001b[31m⠄\u001b[39m\u001b[31m⠂\u001b[39m\u001b[0m⠀\u001b[0m⠀\u001b[0m⠀\u001b[31m⢀\u001b[39m\u001b[0m⠀\u001b[31m⢀\u001b[39m\u001b[0m⠀\u001b[0m⠀\u001b[0m⠀\u001b[0m⠀\u001b[31m⠉\u001b[39m\u001b[31m⠠\u001b[39m\u001b[31m⠈\u001b[39m\u001b[0m⠀\u001b[31m⠁\u001b[39m\u001b[0m⠀\u001b[0m⠀\u001b[31m⡀\u001b[39m\u001b[31m⠄\u001b[39m\u001b[90m│\u001b[39m    \n",
       "        \u001b[90m │\u001b[39m\u001b[0m⠀\u001b[0m⠀\u001b[0m⠀\u001b[0m⠀\u001b[0m⠀\u001b[0m⠀\u001b[0m⠀\u001b[0m⠀\u001b[0m⠀\u001b[0m⠀\u001b[0m⠀\u001b[31m⠠\u001b[39m\u001b[31m⠂\u001b[39m\u001b[0m⠀\u001b[0m⠀\u001b[31m⠄\u001b[39m\u001b[0m⠀\u001b[0m⠀\u001b[0m⠀\u001b[0m⠀\u001b[31m⠐\u001b[39m\u001b[31m⡀\u001b[39m\u001b[0m⠀\u001b[0m⠀\u001b[31m⠁\u001b[39m\u001b[0m⠀\u001b[31m⠐\u001b[39m\u001b[0m⠀\u001b[0m⠀\u001b[0m⠀\u001b[31m⢰\u001b[39m\u001b[31m⡄\u001b[39m\u001b[31m⠁\u001b[39m\u001b[0m⠀\u001b[0m⠀\u001b[31m⠉\u001b[39m\u001b[31m⠠\u001b[39m\u001b[0m⠀\u001b[31m⠠\u001b[39m\u001b[0m⠀\u001b[31m⡀\u001b[39m\u001b[0m⠀\u001b[90m│\u001b[39m    \n",
       "        \u001b[90m │\u001b[39m\u001b[31m⡁\u001b[39m\u001b[31m⠄\u001b[39m\u001b[31m⢀\u001b[39m\u001b[31m⠂\u001b[39m\u001b[0m⠀\u001b[31m⠁\u001b[39m\u001b[31m⡈\u001b[39m\u001b[31m⠆\u001b[39m\u001b[0m⠀\u001b[31m⠄\u001b[39m\u001b[31m⠁\u001b[39m\u001b[31m⠁\u001b[39m\u001b[0m⠀\u001b[31m⠂\u001b[39m\u001b[31m⠁\u001b[39m\u001b[0m⠀\u001b[31m⠂\u001b[39m\u001b[31m⢀\u001b[39m\u001b[0m⠀\u001b[0m⠀\u001b[0m⠀\u001b[0m⠀\u001b[0m⠀\u001b[0m⠀\u001b[31m⠁\u001b[39m\u001b[0m⠀\u001b[0m⠀\u001b[31m⡀\u001b[39m\u001b[0m⠀\u001b[31m⠐\u001b[39m\u001b[0m⠀\u001b[0m⠀\u001b[0m⠀\u001b[0m⠀\u001b[0m⠀\u001b[0m⠀\u001b[0m⠀\u001b[31m⢀\u001b[39m\u001b[31m⠄\u001b[39m\u001b[31m⠤\u001b[39m\u001b[31m⠁\u001b[39m\u001b[31m⠠\u001b[39m\u001b[90m│\u001b[39m    \n",
       "        \u001b[90m │\u001b[39m\u001b[0m⠀\u001b[31m⠅\u001b[39m\u001b[31m⠄\u001b[39m\u001b[31m⠈\u001b[39m\u001b[0m⠀\u001b[31m⢀\u001b[39m\u001b[31m⠂\u001b[39m\u001b[31m⠁\u001b[39m\u001b[31m⠐\u001b[39m\u001b[0m⠀\u001b[31m⡠\u001b[39m\u001b[31m⠄\u001b[39m\u001b[0m⠀\u001b[31m⠄\u001b[39m\u001b[31m⠐\u001b[39m\u001b[0m⠀\u001b[0m⠀\u001b[0m⠀\u001b[0m⠀\u001b[31m⡀\u001b[39m\u001b[0m⠀\u001b[31m⠁\u001b[39m\u001b[31m⡢\u001b[39m\u001b[0m⠀\u001b[31m⠙\u001b[39m\u001b[0m⠀\u001b[31m⠇\u001b[39m\u001b[0m⠀\u001b[31m⢂\u001b[39m\u001b[0m⠀\u001b[31m⣠\u001b[39m\u001b[0m⠀\u001b[31m⠂\u001b[39m\u001b[0m⠀\u001b[0m⠀\u001b[31m⠂\u001b[39m\u001b[0m⠀\u001b[31m⠥\u001b[39m\u001b[31m⠄\u001b[39m\u001b[31m⢁\u001b[39m\u001b[31m⡀\u001b[39m\u001b[31m⡀\u001b[39m\u001b[90m│\u001b[39m    \n",
       "   \u001b[90m10000\u001b[39m\u001b[90m │\u001b[39m\u001b[31m⠘\u001b[39m\u001b[0m⠀\u001b[0m⠀\u001b[0m⠀\u001b[31m⠈\u001b[39m\u001b[31m⠃\u001b[39m\u001b[31m⡁\u001b[39m\u001b[31m⠨\u001b[39m\u001b[31m⠁\u001b[39m\u001b[31m⠐\u001b[39m\u001b[0m⠀\u001b[0m⠀\u001b[31m⠈\u001b[39m\u001b[31m⠁\u001b[39m\u001b[31m⠄\u001b[39m\u001b[0m⠀\u001b[31m⠁\u001b[39m\u001b[0m⠀\u001b[0m⠀\u001b[31m⠂\u001b[39m\u001b[31m⠁\u001b[39m\u001b[31m⢈\u001b[39m\u001b[31m⠁\u001b[39m\u001b[0m⠀\u001b[0m⠀\u001b[31m⡁\u001b[39m\u001b[0m⠀\u001b[0m⠀\u001b[0m⠀\u001b[31m⢀\u001b[39m\u001b[31m⢰\u001b[39m\u001b[0m⠀\u001b[0m⠀\u001b[31m⠈\u001b[39m\u001b[0m⠀\u001b[31m⠈\u001b[39m\u001b[0m⠀\u001b[0m⠀\u001b[0m⠀\u001b[0m⠀\u001b[31m⡂\u001b[39m\u001b[0m⠀\u001b[90m│\u001b[39m    \n",
       "\u001b[90m         └──────────────────────────────────────────┘\u001b[39m    \n",
       "\u001b[90m         1\u001b[39m\u001b[90m                    \u001b[39m\u001b[90m                  10000\u001b[39m\n",
       "\u001b[0m                          nz = 600"
      ]
     },
     "execution_count": 13,
     "metadata": {},
     "output_type": "execute_result"
    }
   ],
   "source": [
    "#Sparsity pattern in A\n",
    "using UnicodePlots\n",
    "spy(A[1:10000, 1:10000]) "
   ]
  },
  {
   "cell_type": "markdown",
   "metadata": {},
   "source": [
    "## Q4. (5 pts) Dense linear algebra? (TODO)\n",
    "\n",
    "Consider the following methods to obtain the page ranks of the `SNAP/web-Google` data. \n",
    "\n",
    "1. A dense linear system solver such as LU decomposition.  \n",
    "2. A dense eigen-solver for asymmetric matrix.  \n",
    "\n",
    "For the LU approach, estimate (1) the memory usage and (2) how long it will take assuming that the LAPACK functions can achieve the theoretical throughput of your computer. "
   ]
  },
  {
   "cell_type": "markdown",
   "metadata": {},
   "source": [
    "## Q5. Iterative solvers\n",
    "\n",
    "Set the _teleportation_ parameter at $p = 0.85$. Consider the following methods for solving the PageRank problem. \n",
    "\n",
    "1. An iterative linear system solver such as GMRES. \n",
    "2. An iterative eigen-solver such as Arnoldi method.\n",
    "\n",
    "For iterative methods, we have many choices in Julia. See a list of existing Julia packages for linear solvers at this [page](https://jutho.github.io/KrylovKit.jl/stable/#Package-features-and-alternatives-1). The start-up code below uses the [KrylovKit.jl](https://github.com/Jutho/KrylovKit.jl) package. You can use other packages if you prefer. Make sure to utilize the special structure of $\\mathbf{P}$ (sparse + rank 1) to speed up the matrix-vector multiplication. "
   ]
  },
  {
   "cell_type": "markdown",
   "metadata": {},
   "source": [
    "### Step 1 (15 pts)\n",
    "\n",
    "Let's implement a type `PageRankImPt` that mimics the matrix $\\mathbf{M} = \\mathbf{I} - \\mathbf{P}^T$. For iterative methods, all we need to provide is methods for evaluating $\\mathbf{M} \\mathbf{v}$ and $\\mathbf{M}^T \\mathbf{v}$ for arbitrary vector $\\mathbf{v}$."
   ]
  },
  {
   "cell_type": "code",
   "execution_count": 14,
   "metadata": {},
   "outputs": [],
   "source": [
    "using BenchmarkTools, LinearAlgebra, SparseArrays, Revise\n",
    "\n",
    "# a type for the matrix M = I - P^T in PageRank problem\n",
    "struct PageRankImPt{TA <: Number, IA <: Integer, T <: AbstractFloat} <: AbstractMatrix{T}\n",
    "    A           :: SparseMatrixCSC{TA, IA} # adjacency matrix\n",
    "    telep       :: T\n",
    "    # working arrays\n",
    "    # TODO: whatever intermediate arrays you may want to pre-allocate\n",
    "    z           :: Vector{T}\n",
    "    d           :: Vector{T}\n",
    "    temp_store  :: Vector{T}\n",
    "    temp_store2 :: Vector{T}\n",
    "end\n",
    "\n",
    "# constructor\n",
    "function PageRankImPt(A::SparseMatrixCSC, telep::T) where T <: AbstractFloat\n",
    "    # TODO: initialize and pre-allocate arrays\n",
    "    n = size(A, 1);\n",
    "    r = A * ones(n)\n",
    "    z = zeros(n);\n",
    "    d = similar(z)\n",
    "    for i in 1:n\n",
    "        if r[i] == 0\n",
    "            d[i], z[i] = 0, 1 / n\n",
    "        else\n",
    "            d[i], z[i] = telep / r[i], (1 - telep) / n\n",
    "        end\n",
    "    end\n",
    "    temp_store = similar(z);\n",
    "    temp_store2 = similar(z);\n",
    "    PageRankImPt(A, telep, z, d, temp_store, temp_store2)\n",
    "end\n",
    "\n",
    "LinearAlgebra.issymmetric(::PageRankImPt) = false\n",
    "Base.size(M::PageRankImPt) = size(M.A)\n",
    "\n",
    "function Base.getindex(M::PageRankImPt, i, j)\n",
    "    if i == j\n",
    "        out = 1 - M.A[j, i] * M.d[i] - M.z[j]\n",
    "    else\n",
    "        out = - M.A[j, i] * M.d[i] - M.z[j]\n",
    "    end\n",
    "    return out\n",
    "end \n",
    "\n",
    "# overwrite `out` by `(I - P') * v` = `Mv`\n",
    "# I'll work from right to left in forming I-P'\n",
    "# using the nifty decomposition of P from step 1,\n",
    "# I can say (I-P')v = v-A'D'v-1z'v. So I just implement this\n",
    "# creatively overwriting memory\n",
    "function LinearAlgebra.mul!(\n",
    "        out :: Vector{T}, \n",
    "        M   :: PageRankImPt{<:Number, <:Integer, T}, \n",
    "        v   :: Vector{T}) where T <: AbstractFloat\n",
    "    # TODO: implement mul!(out, M, v)\n",
    "    # get z'v\n",
    "    ztv = dot(M.z,v)\n",
    "    # get D'v\n",
    "    M.temp_store .= M.d .* v\n",
    "    # get A'D'v\n",
    "    mul!(M.temp_store2, transpose(M.A), M.temp_store)\n",
    "    # return v - A'D'v - 1z'v\n",
    "    out .= v .- M.temp_store2 .- ztv\n",
    "    return out\n",
    "end\n",
    "\n",
    "# overwrite `out` by `(I - P) * v`=`M'v\n",
    "# I'll work from right to left in forming I-P\n",
    "# using the nifty decomposition of P from step 1,\n",
    "# I can say (I-P)v = v-DAv-z1'v. So I just implement this\n",
    "# creatively overwriting memory\n",
    "function LinearAlgebra.mul!(\n",
    "        out :: Vector{T}, \n",
    "        Mt  :: Transpose{T, PageRankImPt{TA, IA, T}}, \n",
    "        v   :: Vector{T}) where {TA<:Number, IA<:Integer, T <: AbstractFloat}\n",
    "    M = Mt.parent\n",
    "    # TODO: implement mul!(out, transpose(M), v)\n",
    "    # get Av\n",
    "    mul!(M.temp_store, M.A, v)\n",
    "    # get DAv\n",
    "    M.temp_store .*= M.d\n",
    "    # get 1'v\n",
    "    vsum = sum(v)\n",
    "    # get z1'v\n",
    "    M.temp_store2 .= M.z .* vsum\n",
    "    # get DAv-z1'v\n",
    "    M.temp_store .+= M.temp_store2\n",
    "    # return v - DAv - z1'v\n",
    "    out .= v .- M.temp_store\n",
    "    return out\n",
    "end"
   ]
  },
  {
   "cell_type": "markdown",
   "metadata": {},
   "source": [
    "To check correctness. Note \n",
    "$$\n",
    "\\mathbf{M}^T \\mathbf{1} = \\mathbf{0}\n",
    "$$\n",
    "and\n",
    "$$\n",
    "\\mathbf{M}^T \\mathbf{x} = \\mathbf{x}\n",
    "$$\n",
    "for stationary distribution $\\mathbf{x}$.\n",
    "\n",
    "Download the solution file `pgrksol.csv`. **Do not put this file in your Git**. You can add a line `pgrksol.csv` to your `.gitignore` file."
   ]
  },
  {
   "cell_type": "code",
   "execution_count": 15,
   "metadata": {},
   "outputs": [
    {
     "data": {
      "text/plain": [
       "916428-element Array{Float64,1}:\n",
       " 3.3783428216975054e-5\n",
       " 2.0710155392568165e-6\n",
       " 3.663065984832893e-6\n",
       " 7.527510785028837e-7\n",
       " 8.63328599674051e-7\n",
       " 1.769418252415541e-6\n",
       " 2.431230382883396e-7\n",
       " 6.368417180141445e-7\n",
       " 4.744973703681939e-7\n",
       " 2.6895486110647536e-7\n",
       " 3.18574314847409e-6\n",
       " 7.375106374416742e-7\n",
       " 2.431230382883396e-7\n",
       " ⋮\n",
       " 1.1305006040148547e-6\n",
       " 4.874825281822915e-6\n",
       " 3.167946973112519e-6\n",
       " 9.72688040308568e-7\n",
       " 6.588614479285245e-7\n",
       " 7.737011774300648e-7\n",
       " 2.431230382883396e-7\n",
       " 1.6219204214797293e-6\n",
       " 3.912130060551738e-7\n",
       " 2.431230382883396e-7\n",
       " 7.296033831163157e-6\n",
       " 6.330939996912478e-7"
      ]
     },
     "execution_count": 15,
     "metadata": {},
     "output_type": "execute_result"
    }
   ],
   "source": [
    "using DelimitedFiles\n",
    "\n",
    "isfile(\"pgrksol.csv\") || download(\"https://raw.githubusercontent.com/ucla-biostat-257-2020spring/ucla-biostat-257-2020spring.github.io/master/hw/hw3/pgrksol.csv\", \"./pgrksol.csv\")\n",
    "xsol = vec(readdlm(\"pgrksol.csv\"))"
   ]
  },
  {
   "cell_type": "markdown",
   "metadata": {},
   "source": [
    "**You will lose all 35 points (Steps 1 and 2)** if the following statements throw AssertError."
   ]
  },
  {
   "cell_type": "code",
   "execution_count": 16,
   "metadata": {},
   "outputs": [],
   "source": [
    "M = PageRankImPt(A, 0.85)\n",
    "n = size(M, 1)\n",
    "@assert norm(transpose(M) * ones(n)) < 1e-12"
   ]
  },
  {
   "cell_type": "code",
   "execution_count": 17,
   "metadata": {},
   "outputs": [],
   "source": [
    "@assert norm(M * xsol) < 1e-12"
   ]
  },
  {
   "cell_type": "markdown",
   "metadata": {},
   "source": [
    "### Step 2 (20 pts)\n",
    "\n",
    "We want to benchmark the hot functions `mul!` to make sure they are efficient and allocate litte memory."
   ]
  },
  {
   "cell_type": "code",
   "execution_count": 18,
   "metadata": {},
   "outputs": [
    {
     "data": {
      "text/plain": [
       "BenchmarkTools.Trial: \n",
       "  memory estimate:  16 bytes\n",
       "  allocs estimate:  1\n",
       "  --------------\n",
       "  minimum time:     22.388 ms (0.00% GC)\n",
       "  median time:      23.958 ms (0.00% GC)\n",
       "  mean time:        25.612 ms (0.00% GC)\n",
       "  maximum time:     34.396 ms (0.00% GC)\n",
       "  --------------\n",
       "  samples:          190\n",
       "  evals/sample:     1"
      ]
     },
     "execution_count": 18,
     "metadata": {},
     "output_type": "execute_result"
    }
   ],
   "source": [
    "M = PageRankImPt(A, 0.85)\n",
    "n = size(M, 1)\n",
    "v, out = ones(n), zeros(n)\n",
    "bm_mv = @benchmark mul!($out, $M, $v) setup=(fill!(out, 0); fill!(v, 1))"
   ]
  },
  {
   "cell_type": "code",
   "execution_count": 19,
   "metadata": {},
   "outputs": [
    {
     "data": {
      "text/plain": [
       "BenchmarkTools.Trial: \n",
       "  memory estimate:  0 bytes\n",
       "  allocs estimate:  0\n",
       "  --------------\n",
       "  minimum time:     26.041 ms (0.00% GC)\n",
       "  median time:      31.385 ms (0.00% GC)\n",
       "  mean time:        31.890 ms (0.00% GC)\n",
       "  maximum time:     42.054 ms (0.00% GC)\n",
       "  --------------\n",
       "  samples:          153\n",
       "  evals/sample:     1"
      ]
     },
     "execution_count": 19,
     "metadata": {},
     "output_type": "execute_result"
    }
   ],
   "source": [
    "bm_mtv = @benchmark mul!($out, $(transpose(M)), $v) setup=(fill!(out, 0); fill!(v, 1))"
   ]
  },
  {
   "cell_type": "markdown",
   "metadata": {},
   "source": [
    "You will lose 1 point for each 100 bytes memory allocation. So the points you will get is"
   ]
  },
  {
   "cell_type": "code",
   "execution_count": 20,
   "metadata": {},
   "outputs": [
    {
     "data": {
      "text/plain": [
       "19.84"
      ]
     },
     "execution_count": 20,
     "metadata": {},
     "output_type": "execute_result"
    }
   ],
   "source": [
    "clamp(10 - median(bm_mv).memory / 100, 0, 10) + \n",
    "clamp(10 - median(bm_mtv).memory / 100, 0, 10)"
   ]
  },
  {
   "cell_type": "markdown",
   "metadata": {},
   "source": [
    "**Hint**: My median run times are 30-40 ms and memory allocations are 0-16 bytes."
   ]
  },
  {
   "cell_type": "markdown",
   "metadata": {},
   "source": [
    "### Step 3 (20 pts)\n",
    "\n",
    "Let's first try to solve the PageRank problem by the GMRES method for solving linear equations. "
   ]
  },
  {
   "cell_type": "code",
   "execution_count": 21,
   "metadata": {},
   "outputs": [
    {
     "data": {
      "text/plain": [
       "(([3.3783428221888516e-5, 2.0710155392484304e-6, 3.663065985237116e-6, 7.527510785602617e-7, 8.633285997161303e-7, 1.7694182527377874e-6, 2.4312303829121483e-7, 6.368417180747212e-7, 4.7449737037499775e-7, 2.6895486110965613e-7  …  3.1679469739776804e-6, 9.726880410231163e-7, 6.588614478542447e-7, 7.73701177471464e-7, 2.4312303829121483e-7, 1.6219204214246199e-6, 3.9121300606314574e-7, 2.4312303829121483e-7, 7.296033831324933e-6, 6.330939996678431e-7], ConvergenceInfo: one converged value after 3 iterations and 72 applications of the linear map;\n",
       "norms of residuals are given by (7.821167768423286e-13,).\n",
       "), 4.616077724, 1010825081, 0.216244733, Base.GC_Diff(1010825081, 137, 0, 123430, 6, 0, 216244733, 3, 0))"
      ]
     },
     "execution_count": 21,
     "metadata": {},
     "output_type": "execute_result"
    }
   ],
   "source": [
    "using KrylovKit\n",
    "\n",
    "# normalize in-degrees to be the start point\n",
    "x0   = vec(sum(A, dims = 1)) .+ 1.0\n",
    "x0 ./= sum(x0)\n",
    "\n",
    "# right hand side\n",
    "n = size(A, 1)\n",
    "b = zeros(n)\n",
    "\n",
    "# warm up (compilation)\n",
    "linsolve(M, b, x0, issymmetric = false, isposdef = false, maxiter = 1) \n",
    "# output is complex eigenvalue/eigenvector\n",
    "(x_gmres, info), time_gmres, = @timed linsolve(M, b, x0, issymmetric = false, isposdef = false)"
   ]
  },
  {
   "cell_type": "markdown",
   "metadata": {},
   "source": [
    "Check correctness. **You will lose all 20 points if the following statement throws `AssertError`.**"
   ]
  },
  {
   "cell_type": "code",
   "execution_count": 22,
   "metadata": {},
   "outputs": [],
   "source": [
    "@assert norm(x_gmres - xsol) < 1e-8"
   ]
  },
  {
   "cell_type": "markdown",
   "metadata": {},
   "source": [
    "GMRES should be reasonably fast. The points you'll get is"
   ]
  },
  {
   "cell_type": "code",
   "execution_count": 23,
   "metadata": {},
   "outputs": [
    {
     "data": {
      "text/plain": [
       "20.0"
      ]
     },
     "execution_count": 23,
     "metadata": {},
     "output_type": "execute_result"
    }
   ],
   "source": [
    "clamp(20 / time_gmres * 20, 0, 20)"
   ]
  },
  {
   "cell_type": "markdown",
   "metadata": {},
   "source": [
    "**Hint**: My runtime is about 8 seconds."
   ]
  },
  {
   "cell_type": "markdown",
   "metadata": {},
   "source": [
    "### Step 4 (20 pts)\n",
    "\n",
    "Let's first try to solve the PageRank problem by the Arnoldi method for solving eigen problems. "
   ]
  },
  {
   "cell_type": "code",
   "execution_count": 24,
   "metadata": {},
   "outputs": [
    {
     "data": {
      "text/plain": [
       "((Complex{Float64}[-1.4453413852555562e-14 + 0.0im], Array{Complex{Float64},1}[[0.0056358269538073135 + 0.0im, 0.00034549143807828807 + 0.0im, 0.0006110808494125191 + 0.0im, 0.0001255756162603543 + 0.0im, 0.00014402240532803497 + 0.0im, 0.00029517830503985064 + 0.0im, 4.055832828678035e-5 + 0.0im, 0.00010623935784852223 + 0.0im, 7.915671116195587e-5 + 0.0im, 4.486765066725073e-5 + 0.0im  …  0.0005284839899797014 + 0.0im, 0.00016226599147988767 + 0.0im, 0.00010991273837609865 + 0.0im, 0.0001290705585575189 + 0.0im, 4.055832828678035e-5 + 0.0im, 0.0002705723874320433 + 0.0im, 6.526302748333534e-5 + 0.0im, 4.0558328286780356e-5 + 0.0im, 0.001217140660132839 + 0.0im, 0.00010561415510699434 + 0.0im]], ConvergenceInfo: one converged value after 7 iterations and 99 applications of the linear map;\n",
       "norms of residuals are given by (9.577598665649965e-14,).\n",
       "), 8.164247184, 1584030341, 0.322601154, Base.GC_Diff(1584030341, 213, 0, 139758, 50, 0, 322601154, 4, 0))"
      ]
     },
     "execution_count": 24,
     "metadata": {},
     "output_type": "execute_result"
    }
   ],
   "source": [
    "# warm up (compilation)\n",
    "eigsolve(M, x0, 1, :SR, issymmetric = false, maxiter = 1)\n",
    "# output is complex eigenvalue/eigenvector\n",
    "(vals, vecs, info), time_arnoldi, = @timed eigsolve(M, x0, 1, :SR, issymmetric = false)"
   ]
  },
  {
   "cell_type": "markdown",
   "metadata": {},
   "source": [
    "Check correctness. **You will lose all 20 points if the following statement throws `AssertError`.**"
   ]
  },
  {
   "cell_type": "code",
   "execution_count": 25,
   "metadata": {},
   "outputs": [],
   "source": [
    "@assert abs(Real(vals[1])) < 1e-8"
   ]
  },
  {
   "cell_type": "code",
   "execution_count": 26,
   "metadata": {},
   "outputs": [],
   "source": [
    "x_arnoldi   = abs.(Real.(vecs[1]))\n",
    "x_arnoldi ./= sum(x_arnoldi)\n",
    "@assert norm(x_arnoldi - xsol) < 1e-8"
   ]
  },
  {
   "cell_type": "markdown",
   "metadata": {},
   "source": [
    "Arnoldi should be reasonably fast. The points you'll get is"
   ]
  },
  {
   "cell_type": "code",
   "execution_count": 27,
   "metadata": {},
   "outputs": [
    {
     "data": {
      "text/plain": [
       "20.0"
      ]
     },
     "execution_count": 27,
     "metadata": {},
     "output_type": "execute_result"
    }
   ],
   "source": [
    "clamp(20 / time_arnoldi * 20, 0, 20)"
   ]
  },
  {
   "cell_type": "markdown",
   "metadata": {},
   "source": [
    "**Hint**: My runtime is about 11 seconds."
   ]
  },
  {
   "cell_type": "markdown",
   "metadata": {},
   "source": [
    "## Q6. (5 pts) Results\n",
    "\n",
    "List the top 20 pages you found and their corresponding PageRank score. Do they match the top 20 pages ranked according to in-degrees? "
   ]
  },
  {
   "cell_type": "code",
   "execution_count": 28,
   "metadata": {},
   "outputs": [
    {
     "data": {
      "text/plain": [
       "20-element Array{Int64,1}:\n",
       " 597622\n",
       "  41910\n",
       " 163076\n",
       " 537040\n",
       " 384667\n",
       " 504141\n",
       " 486981\n",
       " 605857\n",
       "  32164\n",
       " 558792\n",
       " 551830\n",
       " 765335\n",
       " 751385\n",
       " 425771\n",
       " 908352\n",
       " 173977\n",
       "   7315\n",
       " 213433\n",
       " 885606\n",
       " 819224"
      ]
     },
     "execution_count": 28,
     "metadata": {},
     "output_type": "execute_result"
    }
   ],
   "source": [
    "sortperm(vec(x_gmres), rev = true)[1:20]"
   ]
  },
  {
   "cell_type": "code",
   "execution_count": 47,
   "metadata": {},
   "outputs": [
    {
     "data": {
      "text/plain": [
       "20-element Array{Int64,1}:\n",
       " 597622\n",
       "  41910\n",
       " 163076\n",
       " 537040\n",
       " 384667\n",
       " 504141\n",
       " 486981\n",
       " 605857\n",
       "  32164\n",
       " 558792\n",
       " 551830\n",
       " 765335\n",
       " 751385\n",
       " 425771\n",
       " 908352\n",
       " 173977\n",
       "   7315\n",
       " 213433\n",
       " 885606\n",
       " 819224"
      ]
     },
     "execution_count": 47,
     "metadata": {},
     "output_type": "execute_result"
    }
   ],
   "source": [
    "sortperm(vec(x_arnoldi), rev = true)[1:20]"
   ]
  },
  {
   "cell_type": "code",
   "execution_count": 51,
   "metadata": {},
   "outputs": [
    {
     "name": "stdout",
     "output_type": "stream",
     "text": [
      "top_20_in == (sortperm(vec(x_gmres), rev = true))[1:20] = false\n",
      "top_20_in == (sortperm(vec(x_arnoldi), rev = true))[1:20] = false\n"
     ]
    },
    {
     "data": {
      "text/plain": [
       "false"
      ]
     },
     "execution_count": 51,
     "metadata": {},
     "output_type": "execute_result"
    }
   ],
   "source": [
    "# Do they match the top 20 pages ranked according to in-degrees?\n",
    "@show top_20_in==sortperm(vec(x_gmres), rev = true)[1:20]\n",
    "@show top_20_in==sortperm(vec(x_arnoldi), rev = true)[1:20]"
   ]
  },
  {
   "cell_type": "markdown",
   "metadata": {},
   "source": [
    "## Q7. Be proud of yourself\n",
    "\n",
    "Go to your resume/cv and claim you have experience performing analysis on a network of one million nodes."
   ]
  }
 ],
 "metadata": {
  "@webio": {
   "lastCommId": null,
   "lastKernelId": null
  },
  "kernelspec": {
   "display_name": "Julia 1.4.0",
   "language": "julia",
   "name": "julia-1.4"
  },
  "language_info": {
   "file_extension": ".jl",
   "mimetype": "application/julia",
   "name": "julia",
   "version": "1.4.0"
  },
  "toc": {
   "colors": {
    "hover_highlight": "#DAA520",
    "running_highlight": "#FF0000",
    "selected_highlight": "#FFD700"
   },
   "moveMenuLeft": true,
   "nav_menu": {
    "height": "87px",
    "width": "252px"
   },
   "navigate_menu": true,
   "number_sections": false,
   "sideBar": true,
   "skip_h1_title": true,
   "threshold": 4,
   "toc_cell": false,
   "toc_section_display": "block",
   "toc_window_display": true,
   "widenNotebook": false
  }
 },
 "nbformat": 4,
 "nbformat_minor": 4
}
